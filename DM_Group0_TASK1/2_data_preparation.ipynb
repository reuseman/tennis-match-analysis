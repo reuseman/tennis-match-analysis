{
 "cells": [
  {
   "cell_type": "markdown",
   "metadata": {
    "cell_id": "00000-6d7bd2a9-f467-46e3-8bab-0f2e57fecd74",
    "deepnote_cell_type": "markdown",
    "tags": []
   },
   "source": [
    "# Players dataset preparation"
   ]
  },
  {
   "cell_type": "code",
   "execution_count": null,
   "metadata": {
    "cell_id": "00007-e4e23cab-52a6-4d81-95b2-312666a29307",
    "deepnote_cell_type": "code",
    "deepnote_to_be_reexecuted": false,
    "execution_millis": 1131,
    "execution_start": 1636929369139,
    "output_cleared": true,
    "source_hash": "1e33ae68",
    "tags": []
   },
   "outputs": [],
   "source": [
    "import pandas as pd\n",
    "import numpy as np\n",
    "\n",
    "# Visualization\n",
    "import plotly.express as px\n",
    "import plotly.io as pio\n",
    "pd.options.plotting.backend = 'plotly'\n",
    "pio.templates.default = \"seaborn\""
   ]
  },
  {
   "cell_type": "markdown",
   "metadata": {
    "cell_id": "00005-e868dfee-80d4-4dee-b17c-413edb43f67e",
    "deepnote_cell_type": "text-cell-h2",
    "is_collapsed": false,
    "tags": []
   },
   "source": [
    "## Dataset preparation"
   ]
  },
  {
   "cell_type": "code",
   "execution_count": null,
   "metadata": {
    "cell_id": "00000-3b97f354-41cd-4023-bf75-89686aff1d4c",
    "deepnote_cell_type": "code",
    "deepnote_to_be_reexecuted": false,
    "execution_millis": 1884,
    "execution_start": 1636929370278,
    "output_cleared": true,
    "source_hash": "907a6341",
    "tags": []
   },
   "outputs": [],
   "source": [
    "# Read datasets\n",
    "df_tennis = pd.read_csv(\"../datasets/tennis_matches_cleaned.csv\", parse_dates=[\"tourney_date\"], index_col=0)\n",
    "df_male = pd.read_csv(\"../datasets/male_players.csv\")\n",
    "df_female = pd.read_csv(\"../datasets/female_players.csv\")\n",
    "\n",
    "df_male.drop_duplicates(inplace=True)\n",
    "df_female.drop_duplicates(inplace=True)\n",
    "\n",
    "def preprocess_strings(df):\n",
    "    df = df.applymap(lambda x:x.lower().strip() if type(x) == str else x)\n",
    "    return df.replace(r\"\\s{2,}\", \" \", regex=True)\n",
    "\n",
    "df_tennis.tourney_date = pd.to_datetime(df_tennis.tourney_date, format='%Y%m%d')\n",
    "\n",
    "# Normalize strings\n",
    "df_male = preprocess_strings(df_male)\n",
    "df_female = preprocess_strings(df_female)"
   ]
  },
  {
   "cell_type": "code",
   "execution_count": null,
   "metadata": {
    "cell_id": "00003-5904af19-0d29-44f9-9183-81cfd807befa",
    "deepnote_cell_type": "code",
    "deepnote_to_be_reexecuted": false,
    "execution_millis": 1360,
    "execution_start": 1636929372179,
    "output_cleared": false,
    "source_hash": "8a97309a",
    "tags": []
   },
   "outputs": [],
   "source": [
    "# Create a new players dataset whose name is the concatenation of the name and the surname for the male and female players\n",
    "df = pd.concat([df_male.name + \" \" + df_male.surname], axis=1, keys=[\"name\", \"gender\"])\n",
    "df[\"gender\"] = \"m\"\n",
    "df_players = df\n",
    "df = pd.concat([df_female.name + \" \" + df_female.surname], axis=1, keys=[\"name\", \"gender\"])\n",
    "df[\"gender\"] = \"f\"\n",
    "df_players = df_players.append(df)\n",
    "\n",
    "# Remove duplicates arising from the intersection\n",
    "df_players = df_players.drop_duplicates(subset=[\"name\"])\n",
    "df_players = df_players.sort_values(by=[\"name\"])\n",
    "df_players.reset_index(drop=True, inplace=True)\n",
    "\n",
    "# Merge the players dataset with the tennis dataset\n",
    "df = pd.merge(df_tennis, df_players.rename(columns = {'name': 'winner_name', 'gender':'winner_gender'}), on=\"winner_name\", how=\"left\")\n",
    "df = pd.merge(df, df_players.rename(columns = {'name': 'loser_name', 'gender':'loser_gender'}), on=\"loser_name\", how=\"left\")\n",
    "\n",
    "# Find the players who do not have a gender and assign them the most common among the genders of the players they played with. \n",
    "winners = df[df.winner_gender.isnull()].groupby([\"winner_name\", \"loser_gender\"]).loser_gender.count().reset_index(name=\"occurrences\").rename(columns={\"winner_name\":\"name\", \"loser_gender\":\"gender\"})\n",
    "\n",
    "losers = df[df.loser_gender.isnull()].groupby([\"loser_name\", \"winner_gender\"]).winner_gender.count().reset_index(name=\"occurrences\").rename(columns={\"loser_name\":\"name\", \"winner_gender\":\"gender\"})\n",
    "\n",
    "estimate = pd.concat([winners, losers]).groupby([\"name\", \"gender\"]).occurrences.sum().reset_index(name=\"occurrences\")\n",
    "estimate = estimate.sort_values(by=[\"name\", \"occurrences\"], ascending=[1, 0]).drop_duplicates(\"name\", keep=\"first\").drop(columns=[\"occurrences\"])\n",
    "\n",
    "# Create the players dataset\n",
    "df_players = df.loc[:, ['winner_name', 'winner_gender']].set_axis(['name', 'gender'], axis=1, inplace=False)\n",
    "df_players = df_players.append(df.loc[:, ['loser_name', 'loser_gender']].set_axis(['name', 'gender'], axis=1, inplace=False))\n",
    "df_players = df_players.append(estimate)\n",
    "df_players = df_players.dropna().drop_duplicates()\n",
    "df_players = df_players.sort_values(by=[\"name\"]).reset_index(drop=True)\n",
    "df_players.head()"
   ]
  },
  {
   "cell_type": "markdown",
   "metadata": {
    "cell_id": "00009-6a38d428-6806-42d6-bdf9-ce4f38117aab",
    "deepnote_cell_type": "text-cell-h2",
    "is_collapsed": false,
    "tags": []
   },
   "source": [
    "## Feature engineering"
   ]
  },
  {
   "cell_type": "markdown",
   "metadata": {
    "cell_id": "00008-05dc878c-fc01-4140-9e70-da3d89a47860",
    "deepnote_cell_type": "text-cell-h3",
    "is_collapsed": false,
    "tags": []
   },
   "source": [
    "### Tourneys played"
   ]
  },
  {
   "cell_type": "code",
   "execution_count": null,
   "metadata": {
    "cell_id": "00003-39d62f33-0711-4ce7-b493-b934dd7a7c78",
    "deepnote_cell_type": "code",
    "deepnote_to_be_reexecuted": false,
    "execution_millis": 144,
    "execution_start": 1636929373558,
    "output_cleared": false,
    "source_hash": "223d3d86",
    "tags": []
   },
   "outputs": [],
   "source": [
    "df_w = df_tennis.loc[:, ['winner_name', 'tourney_id']].rename(columns={'winner_name': 'name'})\n",
    "df_l = df_tennis.loc[:, ['loser_name', 'tourney_id']].rename(columns={'loser_name': 'name'})\n",
    "\n",
    "# players and their number of participations in tournaments\n",
    "df = pd.concat([df_w, df_l]).groupby('name').tourney_id.nunique().reset_index(name=\"total_tourneys_played\")\n",
    "\n",
    "# add features to the data_frame of player profiles\n",
    "df_players = df_players.merge(df, on=\"name\")"
   ]
  },
  {
   "cell_type": "markdown",
   "metadata": {
    "cell_id": "00005-027c5828-3572-4f88-89d7-7bae902ee473",
    "deepnote_cell_type": "text-cell-h3",
    "is_collapsed": false,
    "tags": []
   },
   "source": [
    "### Matches played"
   ]
  },
  {
   "cell_type": "code",
   "execution_count": null,
   "metadata": {
    "cell_id": "00005-54f4defe-bae9-4e9d-a90c-59b4bc23ab2d",
    "deepnote_cell_type": "code",
    "deepnote_to_be_reexecuted": false,
    "execution_millis": 99,
    "execution_start": 1636929373713,
    "output_cleared": false,
    "source_hash": "449072bb",
    "tags": []
   },
   "outputs": [],
   "source": [
    "df_w = df_tennis.loc[:, ['winner_name', 'tourney_id']].rename(columns={'winner_name': 'name'})\n",
    "df_l = df_tennis.loc[:, ['loser_name', 'tourney_id']].rename(columns={'loser_name': 'name'})\n",
    "\n",
    "# players and relative number of matches played\n",
    "df = pd.concat([df_w, df_l]).groupby('name').tourney_id.count().reset_index(name=\"total_matches_played\")\n",
    "\n",
    "# add features to the player profile dataframe\n",
    "df_players = df_players.merge(df, on=\"name\")"
   ]
  },
  {
   "cell_type": "code",
   "execution_count": null,
   "metadata": {},
   "outputs": [],
   "source": [
    "px.histogram(df_players, x=\"total_matches_played\").show()"
   ]
  },
  {
   "cell_type": "markdown",
   "metadata": {
    "cell_id": "00012-9a3e5bfe-b099-4311-841d-f96254921293",
    "deepnote_cell_type": "text-cell-h3",
    "is_collapsed": false,
    "tags": []
   },
   "source": [
    "### Matches won"
   ]
  },
  {
   "cell_type": "code",
   "execution_count": null,
   "metadata": {
    "cell_id": "00007-7c9f71b8-4ac7-4062-97fd-1cff9e4df3f5",
    "deepnote_cell_type": "code",
    "deepnote_to_be_reexecuted": false,
    "execution_millis": 56,
    "execution_start": 1636929373831,
    "output_cleared": false,
    "source_hash": "513eebb7",
    "tags": []
   },
   "outputs": [],
   "source": [
    "df = df_tennis.loc[:, ['winner_name', 'tourney_id']].rename(columns={'winner_name': 'name'})\n",
    "\n",
    "# players and relative number of matches won\n",
    "df = df.groupby('name').tourney_id.count().reset_index(name=\"total_matches_won\")\n",
    "\n",
    "# add features to the data_frame of player profiles\n",
    "df_players = df_players.merge(df, on=\"name\", how=\"left\")\n",
    "df_players.total_matches_won.fillna(0, inplace=True)"
   ]
  },
  {
   "cell_type": "markdown",
   "metadata": {
    "cell_id": "00017-145c4f0b-7ad1-44c1-8857-89fe4b90ba26",
    "deepnote_cell_type": "text-cell-h3",
    "is_collapsed": false,
    "tags": []
   },
   "source": [
    "### Matches won ratio"
   ]
  },
  {
   "cell_type": "code",
   "execution_count": null,
   "metadata": {
    "cell_id": "00015-cfdd4a5e-b1a8-489e-86a0-833011ab2b06",
    "deepnote_cell_type": "code",
    "deepnote_to_be_reexecuted": false,
    "execution_millis": 9,
    "execution_start": 1636929373888,
    "output_cleared": true,
    "source_hash": "34bbd411",
    "tags": []
   },
   "outputs": [],
   "source": [
    "df_players[\"matches_won_ratio\"] = df_players[\"total_matches_won\"] / df_players[\"total_matches_played\"]"
   ]
  },
  {
   "cell_type": "markdown",
   "metadata": {
    "cell_id": "00020-21326ab5-8361-4bf1-8d48-a2ee71b76e18",
    "deepnote_cell_type": "text-cell-h3",
    "is_collapsed": false,
    "tags": []
   },
   "source": [
    "### Mean, max, min, entropy of performance_index"
   ]
  },
  {
   "cell_type": "markdown",
   "metadata": {},
   "source": [
    "It's the number of matches won in a tourney over the matches that were supposed to be played in order to win the tourney"
   ]
  },
  {
   "cell_type": "code",
   "execution_count": null,
   "metadata": {
    "cell_id": "00016-8fe8aeab-e3ee-44f2-acdc-b36c5693a6a1",
    "deepnote_cell_type": "code",
    "deepnote_to_be_reexecuted": false,
    "execution_millis": 428,
    "execution_start": 1636929373908,
    "source_hash": "542a2bd7"
   },
   "outputs": [],
   "source": [
    "df_w = df_tennis.loc[:, ['winner_name', 'tourney_id', \"draw_size\"]].rename(columns={'winner_name': 'name'})\n",
    "df_l = df_tennis.loc[:, ['loser_name', 'tourney_id', \"draw_size\"]].rename(columns={'loser_name': 'name'})\n",
    "\n",
    "matches_won_per_tourney = df_w.groupby(['name', 'tourney_id']).tourney_id.count().reset_index(name=\"total_matches_won_per_tourney\")\n",
    "df = pd.concat([df_w, df_l])\n",
    "df = df.merge(matches_won_per_tourney, on=['name', 'tourney_id'], how=\"left\")\n",
    "df[\"total_matches_won_per_tourney\"] = df[\"total_matches_won_per_tourney\"].fillna(0).astype('Int32')\n",
    "\n",
    "df[\"matches_to_play_per_tourney\"] = np.log2(df[\"draw_size\"]) + 1\n",
    "df[\"performance_index\"] = df[\"total_matches_won_per_tourney\"] / df[\"matches_to_play_per_tourney\"]\n",
    "# If performance_index is bigger than 1 (won more matches than the number of matches I am supposed to play), then set it to 1. That's the case of extra qualifications\n",
    "df[\"performance_index\"].clip(lower=0, upper=1, inplace=True)\n",
    "\n",
    "# Stats about performance_index\n",
    "df_stats = df.groupby('name')['performance_index'].agg(mean_performance_index='mean', max_performance_index='max', min_performance_index='min')\n",
    "\n",
    "# Entropy of performance_index\n",
    "g_sum = df.groupby('name')['performance_index'].transform('sum')\n",
    "values = df['performance_index']/g_sum\n",
    "df['performance_index_entropy'] = -(values*np.log(values))\n",
    "df_entropy = df.groupby('name')['performance_index_entropy'].sum().reset_index()\n",
    "\n",
    "# Merge stats and entropy with players\n",
    "df_players = df_players.merge(df_stats, on=\"name\")\n",
    "df_players = df_players.merge(df_entropy, on=\"name\")\n",
    "#del df_entropy, df_stats"
   ]
  },
  {
   "cell_type": "markdown",
   "metadata": {
    "cell_id": "00004-61bb3085-2df2-489a-ab3b-2a29a018ae9f",
    "deepnote_cell_type": "text-cell-h3",
    "is_collapsed": false,
    "tags": []
   },
   "source": [
    "### Height"
   ]
  },
  {
   "cell_type": "markdown",
   "metadata": {
    "cell_id": "00020-b76a4886-bccc-41be-a21d-20402808aa27",
    "deepnote_cell_type": "markdown",
    "tags": []
   },
   "source": [
    "Probably unusable feature, we only have it for 541 players"
   ]
  },
  {
   "cell_type": "code",
   "execution_count": null,
   "metadata": {
    "cell_id": "00005-a7c4542c-e696-42b4-bf1e-206fce7509eb",
    "deepnote_cell_type": "code",
    "deepnote_to_be_reexecuted": false,
    "execution_millis": 116,
    "execution_start": 1636929374366,
    "output_cleared": false,
    "source_hash": "552c5774",
    "tags": []
   },
   "outputs": [],
   "source": [
    "df_w = df_tennis.loc[:, ['winner_name', 'winner_ht', 'tourney_date']].rename(columns={'winner_name': 'name', 'winner_ht': 'ht'})\n",
    "df_l = df_tennis.loc[:, ['loser_name', 'loser_ht', 'tourney_date']].rename(columns={'loser_name': 'name', 'loser_ht': 'ht'})\n",
    "\n",
    "# players and their height\n",
    "df = pd.concat([df_w, df_l]).sort_values('tourney_date', ascending='False').groupby('name').ht.first().reset_index()\n",
    "\n",
    "# add features to the data_frame of player profiles\n",
    "df_players = df_players.merge(df, on=\"name\")"
   ]
  },
  {
   "cell_type": "markdown",
   "metadata": {
    "cell_id": "00006-de571e94-5140-4939-a4a7-3b13a9c91869",
    "deepnote_cell_type": "text-cell-h3",
    "is_collapsed": false,
    "tags": []
   },
   "source": [
    "### Age"
   ]
  },
  {
   "cell_type": "code",
   "execution_count": null,
   "metadata": {
    "cell_id": "00007-74e95c47-38b9-4ecb-a46c-a8d09da758e0",
    "deepnote_cell_type": "code",
    "deepnote_to_be_reexecuted": false,
    "execution_millis": 303,
    "execution_start": 1636929374491,
    "output_cleared": false,
    "source_hash": "e1c0834a",
    "tags": []
   },
   "outputs": [],
   "source": [
    "df_w = df_tennis.loc[:, ['winner_name', 'winner_age', 'tourney_date']].rename(columns={'winner_name': 'name', 'winner_age': 'age'})\n",
    "df_l = (df_tennis.loc[:, ['loser_name', 'loser_age', 'tourney_date']]).rename(columns={'loser_name': 'name', 'loser_age': 'age'})\n",
    "\n",
    "# players and their ages\n",
    "df = pd.concat([df_w, df_l]).sort_values('tourney_date', ascending='False').groupby('name').age.first().reset_index()\n",
    "\n",
    "# \n",
    "df_players = df_players.merge(df, on=\"name\")\n"
   ]
  },
  {
   "cell_type": "code",
   "execution_count": null,
   "metadata": {},
   "outputs": [],
   "source": [
    "px.histogram(df_players, x=\"age\").show()"
   ]
  },
  {
   "cell_type": "markdown",
   "metadata": {
    "cell_id": "00007-281c7043-a12f-4590-a603-a520172915e8",
    "deepnote_cell_type": "text-cell-h3",
    "is_collapsed": false,
    "tags": []
   },
   "source": [
    "### Hand"
   ]
  },
  {
   "cell_type": "code",
   "execution_count": null,
   "metadata": {
    "cell_id": "00008-b86f7be5-e75f-471a-8ceb-95d5cff67137",
    "deepnote_cell_type": "code",
    "deepnote_to_be_reexecuted": false,
    "execution_millis": 2444,
    "execution_start": 1636929374665,
    "output_cleared": false,
    "source_hash": "f62f8cf6",
    "tags": []
   },
   "outputs": [],
   "source": [
    "df_w = df_tennis.loc[:, ['winner_name', 'winner_hand']].rename(columns={'winner_name': 'name', 'winner_hand': 'hand'})\n",
    "df_l = (df_tennis.loc[:, ['loser_name', 'loser_hand']]).rename(columns={'loser_name': 'name', 'loser_hand': 'hand'})\n",
    "\n",
    "# players and their favorite hand\n",
    "df = pd.concat([df_w, df_l]).groupby('name').hand.agg(pd.Series.mode).reset_index()\n",
    "\n",
    "# add features to the player profile dataframe\n",
    "df_players = df_players.merge(df, on=\"name\")"
   ]
  },
  {
   "cell_type": "markdown",
   "metadata": {
    "cell_id": "00024-5226a9a6-4b34-4c0d-8c23-ed3ad882f431",
    "deepnote_cell_type": "markdown"
   },
   "source": [
    "### Mean, max, entropy of minutes"
   ]
  },
  {
   "cell_type": "code",
   "execution_count": null,
   "metadata": {
    "cell_id": "00025-6b7cac24-05f6-4d82-8a62-95f53026e0b7",
    "deepnote_cell_type": "code",
    "deepnote_to_be_reexecuted": false,
    "execution_millis": 238,
    "execution_start": 1636929377089,
    "source_hash": "1ee9964a"
   },
   "outputs": [],
   "source": [
    "df_w = df_tennis.loc[:, ['winner_name', 'minutes']].rename(columns={'winner_name': 'name'})\n",
    "df_l = df_tennis.loc[:, ['loser_name', 'minutes']].rename(columns={'loser_name': 'name'})\n",
    "\n",
    "# Mean and max minutes\n",
    "df = pd.concat([df_w, df_l]).groupby('name')['minutes'].agg(mean_minutes='mean', max_minutes='max')\n",
    "df_players = df_players.merge(df, on=\"name\")\n",
    "\n",
    "# Entropy\n",
    "df = pd.concat([df_w, df_l])\n",
    "g_sum = df.groupby('name')['minutes'].transform('sum')\n",
    "values = df['minutes']/g_sum\n",
    "df['minutes_entropy'] = -(values*np.log(values))\n",
    "df_entropy = df.groupby('name')['minutes_entropy'].sum().reset_index()\n",
    "\n",
    "df_players = df_players.merge(df_entropy, on=\"name\")"
   ]
  },
  {
   "cell_type": "markdown",
   "metadata": {
    "cell_id": "00019-cb201105-9966-4f97-92fe-45c5d78d33b6",
    "deepnote_cell_type": "text-cell-h3",
    "is_collapsed": false,
    "tags": []
   },
   "source": [
    "### Ranking"
   ]
  },
  {
   "cell_type": "code",
   "execution_count": null,
   "metadata": {
    "cell_id": "00017-9cb4ac3a-d191-420b-b2c0-417a5ee66375",
    "deepnote_cell_type": "code",
    "deepnote_to_be_reexecuted": false,
    "execution_millis": 2180,
    "execution_start": 1636929377338,
    "output_cleared": false,
    "source_hash": "993aa301",
    "tags": []
   },
   "outputs": [],
   "source": [
    "df_w = df_tennis.loc[:, ['winner_name', 'winner_rank_points', 'tourney_date']].rename(columns={'winner_name': 'name', 'winner_rank_points': 'rank_points'})\n",
    "df_l = (df_tennis.loc[:, ['loser_name', 'loser_rank_points', 'tourney_date']]).rename(columns={'loser_name': 'name', 'loser_rank_points': 'rank_points'})\n",
    "\n",
    "# players and relative measures on ranking (variance, average, max)\n",
    "df = pd.concat([df_l, df_w]).sort_values('tourney_date', ascending = False).groupby('name').rank_points.agg(mean_rank_points='mean', max_rank_points='max', last_rank_points='first', variance_rank_points=lambda x: np.var(x,ddof=0)).reset_index()\n",
    "\n",
    "# add features to the player profile dataframe\n",
    "df_players = df_players.merge(df, on=\"name\")\n",
    "\n",
    "# ratio between the last rank points and the mean rank points\n",
    "df_players['lrpOnAvgrp'] = df_players['last_rank_points']/df_players['mean_rank_points']\n",
    "# ratio between the last rank points and the max rank points\n",
    "df_players['lrpOnMxrp'] = df_players['last_rank_points']/df_players['max_rank_points']"
   ]
  },
  {
   "cell_type": "code",
   "execution_count": null,
   "metadata": {},
   "outputs": [],
   "source": [
    "px.histogram(df_players, x=\"mean_rank_points\").show()"
   ]
  },
  {
   "cell_type": "code",
   "execution_count": null,
   "metadata": {},
   "outputs": [],
   "source": [
    "px.histogram(df_players, x=\"lrpOnAvgrp\").show()"
   ]
  },
  {
   "cell_type": "markdown",
   "metadata": {
    "cell_id": "00024-67fc80ff-dc20-4c7c-9952-9c1a7be5511f",
    "deepnote_cell_type": "text-cell-h3",
    "is_collapsed": false,
    "tags": []
   },
   "source": [
    "### Spectator"
   ]
  },
  {
   "cell_type": "code",
   "execution_count": null,
   "metadata": {
    "cell_id": "00024-41e99b0f-16a3-418c-b2e9-7d4551f46734",
    "deepnote_cell_type": "code",
    "deepnote_to_be_reexecuted": false,
    "execution_millis": 116,
    "execution_start": 1636929379531,
    "output_cleared": false,
    "source_hash": "ada4c700",
    "tags": []
   },
   "outputs": [],
   "source": [
    "df_w = df_tennis.loc[:, ['winner_name', 'tourney_spectators']].rename(columns = {'winner_name': 'name'})\n",
    "df_l = (df_tennis.loc[:, ['loser_name', 'tourney_spectators']]).rename(columns = {'loser_name': 'name'})\n",
    "\n",
    "# players and relative measures on spectators (average and max)\n",
    "df = pd.concat([df_l, df_w]).groupby('name').tourney_spectators.agg(mean_tourney_spectators='mean', max_tourney_spectators='max').reset_index()\n",
    "\n",
    "# add features to the player profile dataframe\n",
    "df_players = df_players.merge(df, on=\"name\")"
   ]
  },
  {
   "cell_type": "markdown",
   "metadata": {
    "cell_id": "00025-885fd7a5-8de2-4538-8379-94c820528af9",
    "deepnote_cell_type": "text-cell-h3",
    "is_collapsed": false,
    "tags": []
   },
   "source": [
    "### Revenue"
   ]
  },
  {
   "cell_type": "code",
   "execution_count": null,
   "metadata": {
    "cell_id": "00026-742b09e3-5a35-4d24-9575-3ae24eebc4ee",
    "deepnote_cell_type": "code",
    "deepnote_to_be_reexecuted": false,
    "execution_millis": 92,
    "execution_start": 1636929379658,
    "output_cleared": false,
    "source_hash": "c10be9e0",
    "tags": []
   },
   "outputs": [],
   "source": [
    "df_w = df_tennis.loc[:, ['winner_name', 'tourney_revenue']].rename(columns = {'winner_name': 'name'})\n",
    "df_l = (df_tennis.loc[:, ['loser_name', 'tourney_revenue']]).rename(columns = {'loser_name': 'name'})\n",
    "\n",
    "# players and related measures on revenue (average and max)\n",
    "df = pd.concat([df_l, df_w]).groupby('name').tourney_revenue.agg(mean_tourney_revenue='mean', max_tourney_revenue='max').reset_index()\n",
    "\n",
    "# add features to the player profile dataframe\n",
    "df_players = df_players.merge(df, on=\"name\")"
   ]
  },
  {
   "cell_type": "markdown",
   "metadata": {
    "cell_id": "00034-ee189a61-70cc-4113-9509-231478a23652",
    "deepnote_cell_type": "text-cell-h3",
    "is_collapsed": false,
    "tags": []
   },
   "source": [
    "### Player in-match features"
   ]
  },
  {
   "cell_type": "code",
   "execution_count": null,
   "metadata": {
    "cell_id": "00032-999ff1b1-0c41-4fba-afaa-a710577b084b",
    "deepnote_cell_type": "code",
    "deepnote_to_be_reexecuted": false,
    "execution_millis": 55,
    "execution_start": 1636929379753,
    "output_cleared": true,
    "source_hash": "514ff48a",
    "tags": []
   },
   "outputs": [],
   "source": [
    "# Those feature where also used to check possible outliers, but nothing particullarry significant was found\n",
    "\n",
    "df_tennis['rel_w_ace'] = df_tennis['w_ace']/df_tennis['w_svpt']\n",
    "df_tennis['rel_l_ace'] = df_tennis['l_ace']/df_tennis['l_svpt']\n",
    "\n",
    "df_tennis['rel_w_df'] = df_tennis['w_df']/df_tennis['w_svpt']\n",
    "df_tennis['rel_l_df'] = df_tennis['l_df']/df_tennis['l_svpt']\n",
    "\n",
    "df_tennis['rel_w_1stIn'] = df_tennis['w_1stIn']/df_tennis['w_svpt']\n",
    "df_tennis['rel_l_1stIn'] = df_tennis['l_1stIn']/df_tennis['l_svpt']\n",
    "\n",
    "df_tennis['rel_w_1stWon'] = df_tennis['w_1stWon']/df_tennis['w_svpt']\n",
    "df_tennis['rel_l_1stWon'] = df_tennis['l_1stWon']/df_tennis['l_svpt']\n",
    "\n",
    "df_tennis['rel_w_2ndWon'] = df_tennis['w_2ndWon']/df_tennis['w_svpt']\n",
    "df_tennis['rel_l_2ndWon'] = df_tennis['l_2ndWon']/df_tennis['l_svpt']\n",
    "\n",
    "df_tennis['w_1WonOn1In'] = df_tennis['w_1stWon']/df_tennis['w_1stIn']\n",
    "df_tennis['l_1WonOn1In'] = df_tennis['l_1stWon']/df_tennis['l_1stIn']\n",
    "\n",
    "df_tennis['w_1WonOnTotWon'] = df_tennis['w_1stWon']/(df_tennis['w_2ndWon'] + df_tennis['w_1stWon'])\n",
    "df_tennis['l_1WonOnTotWon'] = df_tennis['l_1stWon']/(df_tennis['l_2ndWon'] + df_tennis['l_1stWon'])\n",
    "\n",
    "df_tennis['rel_w_ptsWon'] = (df_tennis['w_1stWon'] + df_tennis['w_2ndWon'])/(df_tennis['w_1stWon'] + df_tennis['w_2ndWon'] + df_tennis['l_1stWon'] + df_tennis['l_2ndWon'])\n",
    "df_tennis['rel_l_ptsWon'] = (df_tennis['l_1stWon'] + df_tennis['l_2ndWon'])/(df_tennis['w_1stWon'] + df_tennis['w_2ndWon'] + df_tennis['l_1stWon'] + df_tennis['l_2ndWon'])\n",
    "\n",
    "df_tennis['rel_w_bpFaced'] = df_tennis['w_bpFaced']/(df_tennis['w_svpt'] + df_tennis['l_svpt'])\n",
    "df_tennis['rel_l_bpFaced'] = df_tennis['l_bpFaced']/(df_tennis['w_svpt'] + df_tennis['l_svpt'])\n",
    "\n",
    "df_tennis['rel_w_bpSaved'] = df_tennis['w_bpSaved']/df_tennis['w_bpFaced']\n",
    "df_tennis['rel_l_bpSaved'] = df_tennis['l_bpSaved']/df_tennis['l_bpFaced']\n",
    "\n",
    "df_tennis['rel_w_gmsWon'] = df_tennis['w_gmsWon']/(df_tennis['w_gmsWon'] + df_tennis['l_gmsWon'])\n",
    "df_tennis['rel_l_gmsWon'] = df_tennis['l_gmsWon']/(df_tennis['w_gmsWon'] + df_tennis['l_gmsWon'])"
   ]
  },
  {
   "cell_type": "code",
   "execution_count": null,
   "metadata": {
    "cell_id": "00035-0c8e60d9-b144-4d99-b1d8-027a2bab6c21",
    "deepnote_cell_type": "code",
    "deepnote_to_be_reexecuted": false,
    "execution_millis": 140,
    "execution_start": 1636929379810,
    "output_cleared": false,
    "source_hash": "e3db8be1",
    "tags": []
   },
   "outputs": [],
   "source": [
    "df_winner = df_tennis.loc[:, ['winner_name', 'rel_w_ace', 'rel_w_df', 'rel_w_1stIn', 'rel_w_1stWon', 'rel_w_2ndWon', 'w_1WonOn1In', 'w_1WonOnTotWon', 'rel_w_ptsWon', 'rel_w_bpFaced', 'rel_w_bpSaved', 'rel_w_gmsWon']]\n",
    "df_loser = df_tennis.loc[:, ['loser_name', 'rel_l_ace', 'rel_l_df', 'rel_l_1stIn', 'rel_l_1stWon', 'rel_l_2ndWon', 'l_1WonOn1In', 'l_1WonOnTotWon', 'rel_l_ptsWon', 'rel_l_bpFaced', 'rel_l_bpSaved', 'rel_l_gmsWon']]\n",
    "ren_attr_list = ['name', 'rel_ace', 'rel_df', 'rel_1stIn', 'rel_1stWon', 'rel_2ndWon', '1WonOn1In', '1WonOnTotWon', 'rel_ptsWon', 'rel_bpFaced', 'rel_bpSaved', 'rel_gmsWon']\n",
    "\n",
    "df_winner.set_axis(ren_attr_list, axis=1, inplace=True)\n",
    "df_loser.set_axis(ren_attr_list, axis=1, inplace=True)\n",
    "df = pd.concat([df_winner, df_loser]).groupby('name').mean().reset_index()\n",
    "\n",
    "df_players = df_players.merge(df, on=\"name\")"
   ]
  },
  {
   "cell_type": "markdown",
   "metadata": {},
   "source": [
    "## Dropping records"
   ]
  },
  {
   "cell_type": "markdown",
   "metadata": {},
   "source": [
    "#### Filter players that played at least 15 matches"
   ]
  },
  {
   "cell_type": "code",
   "execution_count": null,
   "metadata": {},
   "outputs": [],
   "source": [
    "df_winner = df_tennis.loc[:, [\"winner_name\"]].rename(columns={\"winner_name\":\"name\"})\n",
    "df_loser = df_tennis.loc[:, [\"loser_name\"]].rename(columns={\"loser_name\":\"name\"})\n",
    "\n",
    "sm15 = pd.concat([df_winner, df_loser]).groupby('name').name.count().reset_index(name=\"count\")[\"count\"] >= 15\n",
    "sm4 = pd.concat([df_winner, df_loser]).groupby('name').name.count().reset_index(name=\"count\")[\"count\"] >= 4\n",
    "\n",
    "# This will be used for classification in order to have as much data as possible\n",
    "df_players_classification = df_players[sm4]\n",
    "# This will be used for clustering\n",
    "df_players = df_players[sm15]\n",
    "\n",
    "df_players.iloc[:,:20].info()"
   ]
  },
  {
   "cell_type": "code",
   "execution_count": null,
   "metadata": {},
   "outputs": [],
   "source": [
    "# drop all records with nan values in lrpOnMxrp (that are the same for which mean_rank_points is null)\n",
    "df_players.dropna(subset=['lrpOnMxrp'], inplace=True)\n",
    "df_players_classification.dropna(subset=['lrpOnMxrp'], inplace=True)\n",
    "df_players.iloc[:,20:].info()"
   ]
  },
  {
   "cell_type": "markdown",
   "metadata": {
    "cell_id": "00042-d3713447-0a80-47e8-a493-4ec3f5737baa",
    "deepnote_cell_type": "text-cell-h2",
    "is_collapsed": false,
    "tags": []
   },
   "source": [
    "## Feature selection"
   ]
  },
  {
   "cell_type": "code",
   "execution_count": null,
   "metadata": {
    "cell_id": "00035-0a62ec37-973e-4224-b703-e73955c05170",
    "deepnote_cell_type": "code",
    "deepnote_to_be_reexecuted": false,
    "execution_millis": 4,
    "execution_start": 1636929380003,
    "source_hash": "7bb2a531",
    "tags": []
   },
   "outputs": [],
   "source": [
    "df_players.info()"
   ]
  },
  {
   "cell_type": "code",
   "execution_count": null,
   "metadata": {
    "cell_id": "00035-13c9a5ac-bec4-4204-96aa-946473f17426",
    "deepnote_cell_type": "code",
    "deepnote_to_be_reexecuted": false,
    "execution_millis": 113,
    "execution_start": 1636929380046,
    "source_hash": "78afe156",
    "tags": []
   },
   "outputs": [],
   "source": [
    "df_players.head()"
   ]
  },
  {
   "cell_type": "markdown",
   "metadata": {
    "cell_id": "00036-b664ec3c-5d3d-4d19-887c-d54926a22e37",
    "deepnote_cell_type": "text-cell-h3",
    "is_collapsed": false,
    "tags": []
   },
   "source": [
    "### Filling age missing values"
   ]
  },
  {
   "cell_type": "code",
   "execution_count": null,
   "metadata": {
    "cell_id": "00036-4dbfa0f4-f442-4051-8deb-e72da42c6c7b",
    "deepnote_cell_type": "code",
    "deepnote_to_be_reexecuted": false,
    "execution_millis": 17,
    "execution_start": 1636929380162,
    "source_hash": "4f1199e7",
    "tags": []
   },
   "outputs": [],
   "source": [
    "# filling the 4 missing value for attribute age with the mean\n",
    "means = df_players['age'].mean()\n",
    "df_players['age'] = df_players['age'].fillna(means)\n",
    "df_players.iloc[:,:20].info()"
   ]
  },
  {
   "cell_type": "markdown",
   "metadata": {
    "cell_id": "00044-bf7acc68-97e0-45f4-943c-754305c32e7b",
    "deepnote_cell_type": "text-cell-h3",
    "is_collapsed": false,
    "tags": []
   },
   "source": [
    "### Correlation analysis\n",
    "\n",
    "Here we look at the correlation between all the defined features"
   ]
  },
  {
   "cell_type": "code",
   "execution_count": null,
   "metadata": {
    "cell_id": "00037-629d6054-1b85-41f4-9e29-85df90037b9d",
    "deepnote_cell_type": "code",
    "deepnote_to_be_reexecuted": false,
    "execution_millis": 319,
    "execution_start": 1636929380253,
    "output_cleared": false,
    "source_hash": "722b8d4a",
    "tags": []
   },
   "outputs": [],
   "source": [
    "def get_redundant_pairs(df):\n",
    "    '''Get diagonal and lower triangular pairs of correlation matrix'''\n",
    "    pairs_to_drop = set()\n",
    "    cols = df.columns\n",
    "    for i in range(0, df.shape[1]):\n",
    "        for j in range(0, i+1):\n",
    "            pairs_to_drop.add((cols[i], cols[j]))\n",
    "    return pairs_to_drop\n",
    "\n",
    "corr_threshold = 0.8\n",
    "correlation = df_players.corr(method=\"pearson\") #.abs()\n",
    "correlation = correlation.where(np.tril(np.ones(correlation.shape)).astype(bool)) # remove upper triangle\n",
    "\n",
    "px.imshow(correlation, labels=dict(color=\"Correlation\"), color_continuous_scale=px.colors.diverging.RdBu, zmin=-1, zmax=1, width=1000, height=1000).show()\n",
    "\n",
    "correlation = correlation.unstack().drop(labels=get_redundant_pairs(correlation)).sort_values(ascending=False).drop_duplicates()\n",
    "print(f\"These are {len(correlation[(correlation>=corr_threshold) | (correlation<=-corr_threshold)])} pairs whose correlation is bigger/small than ±{corr_threshold*100}%:\")\n",
    "correlation[(correlation>=corr_threshold) | (correlation<=-corr_threshold)]"
   ]
  },
  {
   "cell_type": "markdown",
   "metadata": {
    "cell_id": "00045-2f224695-49e8-48ae-848a-4f949c95399c",
    "deepnote_cell_type": "text-cell-h3",
    "is_collapsed": false,
    "tags": []
   },
   "source": [
    "### Selection"
   ]
  },
  {
   "cell_type": "markdown",
   "metadata": {
    "cell_id": "00046-e87c908e-c929-4adb-9ee0-bf890685c00c",
    "deepnote_cell_type": "text-cell-p",
    "is_collapsed": false,
    "tags": []
   },
   "source": [
    "The following feature may provide an interesting picture about the performance of the players"
   ]
  },
  {
   "cell_type": "code",
   "execution_count": null,
   "metadata": {
    "cell_id": "00046-e67bff39-f126-414a-8e9d-66d004d0da2a",
    "deepnote_cell_type": "code",
    "deepnote_to_be_reexecuted": false,
    "execution_millis": 103,
    "execution_start": 1636929380583,
    "source_hash": "bc98be3d",
    "tags": []
   },
   "outputs": [],
   "source": [
    "feautures = ['lrpOnAvgrp', 'lrpOnMxrp', 'mean_performance_index', 'matches_won_ratio', 'mean_rank_points', 'max_rank_points', 'last_rank_points', 'variance_rank_points', 'mean_tourney_spectators', 'max_tourney_spectators', 'mean_tourney_revenue', 'max_tourney_revenue', 'rel_ptsWon', 'rel_gmsWon']\n",
    "df_selected = df_players[feautures].reset_index(drop=True)\n",
    "\n",
    "corr_threshold = 0.7\n",
    "correlation = df_selected.corr(method=\"pearson\") #.abs()\n",
    "correlation = correlation.where(np.tril(np.ones(correlation.shape)).astype(bool)) # remove upper triangle\n",
    "\n",
    "px.imshow(correlation, labels=dict(color=\"Correlation\"), color_continuous_scale=px.colors.diverging.RdBu, zmin=-1, zmax=1, width=1000, height=1000).show()\n",
    "\n",
    "correlation = correlation.unstack().drop(labels=get_redundant_pairs(correlation)).sort_values(ascending=False).drop_duplicates()\n",
    "print(f\"These are {len(correlation[(correlation>=corr_threshold) | (correlation<=-corr_threshold)])} pairs whose correlation is bigger/small than ±{corr_threshold*100}%:\")\n",
    "correlation[(correlation>=corr_threshold) | (correlation<=-corr_threshold)]"
   ]
  },
  {
   "cell_type": "markdown",
   "metadata": {},
   "source": [
    "The idea is to drop all the features that have more than `70%` of correlation"
   ]
  },
  {
   "cell_type": "code",
   "execution_count": null,
   "metadata": {},
   "outputs": [],
   "source": [
    "feautures = ['lrpOnMxrp', 'matches_won_ratio', 'mean_rank_points', 'max_tourney_revenue', 'rel_ptsWon']\n",
    "df_selected = df_players[feautures].reset_index(drop=True)\n",
    "\n",
    "corr_threshold = 0.7\n",
    "correlation = df_selected.corr(method=\"pearson\") #.abs()\n",
    "correlation = correlation.where(np.tril(np.ones(correlation.shape)).astype(bool)) # remove upper triangle\n",
    "\n",
    "px.imshow(correlation, labels=dict(color=\"Correlation\"), color_continuous_scale=px.colors.diverging.RdBu, zmin=-1, zmax=1, width=1000, height=1000).show()\n",
    "\n",
    "correlation = correlation.unstack().drop(labels=get_redundant_pairs(correlation)).sort_values(ascending=False).drop_duplicates()\n",
    "print(f\"These are {len(correlation[(correlation>=corr_threshold) | (correlation<=-corr_threshold)])} pairs whose correlation is bigger/small than ±{corr_threshold*100}%:\")\n",
    "correlation[(correlation>=corr_threshold) | (correlation<=-corr_threshold)]"
   ]
  },
  {
   "cell_type": "code",
   "execution_count": null,
   "metadata": {},
   "outputs": [],
   "source": [
    "df_players[feautures].info()"
   ]
  },
  {
   "cell_type": "markdown",
   "metadata": {
    "cell_id": "00044-83293322-bd1f-4d0a-9c68-0d959823a41e",
    "deepnote_cell_type": "markdown",
    "tags": []
   },
   "source": [
    "The idea is to drop `rel_ptsWon` becuase there are only 1946 non-null values. And hence these are the final selected features"
   ]
  },
  {
   "cell_type": "code",
   "execution_count": null,
   "metadata": {
    "cell_id": "00048-cd31207e-9e25-4c23-a16e-92bf6a451db0",
    "deepnote_cell_type": "code",
    "deepnote_to_be_reexecuted": false,
    "execution_millis": 52,
    "execution_start": 1636929380693,
    "source_hash": "39242d77",
    "tags": []
   },
   "outputs": [],
   "source": [
    "feautures = ['lrpOnMxrp', 'matches_won_ratio', 'mean_rank_points', 'max_tourney_revenue']\n",
    "df_selected = df_players[feautures].reset_index(drop=True)\n",
    "df_selected.describe()"
   ]
  },
  {
   "cell_type": "code",
   "execution_count": null,
   "metadata": {},
   "outputs": [],
   "source": [
    "df_selected = df_players[feautures].reset_index(drop=True)\n",
    "\n",
    "corr_threshold = 0.7\n",
    "correlation = df_selected.corr(method=\"pearson\") #.abs()\n",
    "correlation = correlation.where(np.tril(np.ones(correlation.shape)).astype(bool)) # remove upper triangle\n",
    "\n",
    "px.imshow(correlation, labels=dict(color=\"Correlation\"), color_continuous_scale=px.colors.diverging.RdBu, zmin=-1, zmax=1, width=1000, height=1000).show()\n",
    "\n",
    "correlation = correlation.unstack().drop(labels=get_redundant_pairs(correlation)).sort_values(ascending=False).drop_duplicates()\n",
    "print(f\"These are {len(correlation[(correlation>=corr_threshold) | (correlation<=-corr_threshold)])} pairs whose correlation is bigger/small than ±{corr_threshold*100}%:\")\n",
    "correlation[(correlation>=corr_threshold) | (correlation<=-corr_threshold)]"
   ]
  },
  {
   "cell_type": "markdown",
   "metadata": {
    "cell_id": "00049-7f0b7b8c-dfd2-42d6-ae22-0dcaf8d8d5c9",
    "deepnote_cell_type": "text-cell-h3",
    "is_collapsed": false,
    "tags": []
   },
   "source": [
    "### Analysis"
   ]
  },
  {
   "cell_type": "markdown",
   "metadata": {
    "cell_id": "00050-286520a3-e608-45ff-b6e6-9ea04cc8950b",
    "deepnote_cell_type": "text-cell-p",
    "is_collapsed": false,
    "tags": []
   },
   "source": [
    "By looking at the graphs, it's fair to say that during the clustering phase the features need to be standardized and outliers could be managed"
   ]
  },
  {
   "cell_type": "code",
   "execution_count": null,
   "metadata": {
    "cell_id": "00049-087030f0-4c90-4eb6-b7f8-b6a356968d7e",
    "deepnote_cell_type": "code",
    "deepnote_to_be_reexecuted": false,
    "execution_millis": 628,
    "execution_start": 1636929380876,
    "source_hash": "11687988",
    "tags": []
   },
   "outputs": [],
   "source": [
    "for feature in feautures:\n",
    "  px.histogram(df_players, x=feature, marginal=\"box\").show()"
   ]
  },
  {
   "cell_type": "markdown",
   "metadata": {
    "cell_id": "00049-d5955f57-101d-4c94-9e39-cde864db38db",
    "deepnote_cell_type": "text-cell-h2",
    "is_collapsed": false,
    "tags": []
   },
   "source": [
    "## Output"
   ]
  },
  {
   "cell_type": "code",
   "execution_count": null,
   "metadata": {
    "cell_id": "00053-6c15b0e9-b25f-4b38-a92e-55ca9ac258ee",
    "deepnote_cell_type": "code",
    "deepnote_to_be_reexecuted": false,
    "execution_millis": 392,
    "execution_start": 1636929381508,
    "output_cleared": true,
    "source_hash": "71b48e32",
    "tags": []
   },
   "outputs": [],
   "source": [
    "df_players.to_csv(\"../datasets/players.csv\")\n",
    "df_players_classification.to_csv(\"../datasets/players_classification.csv\")"
   ]
  }
 ],
 "metadata": {
  "deepnote": {
   "is_reactive": false
  },
  "deepnote_execution_queue": [],
  "deepnote_notebook_id": "05837d03-c002-450d-b5d8-64788293877d",
  "interpreter": {
   "hash": "11bc6520eaf059b9bc04ee98b4f739ace287d2f24aeca2977117dec1068ffc1c"
  },
  "kernelspec": {
   "display_name": "Python 3.9.7 64-bit ('dm': conda)",
   "name": "python3"
  },
  "language_info": {
   "codemirror_mode": {
    "name": "ipython",
    "version": 3
   },
   "file_extension": ".py",
   "mimetype": "text/x-python",
   "name": "python",
   "nbconvert_exporter": "python",
   "pygments_lexer": "ipython3",
   "version": "3.9.7"
  }
 },
 "nbformat": 4,
 "nbformat_minor": 2
}
