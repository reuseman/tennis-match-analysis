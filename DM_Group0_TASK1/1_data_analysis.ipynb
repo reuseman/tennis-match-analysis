{
 "cells": [
  {
   "cell_type": "markdown",
   "id": "208952df",
   "metadata": {
    "cell_id": "00001-5dca6cfd-c52f-4223-8a78-314592b52476",
    "deepnote_cell_type": "markdown",
    "tags": []
   },
   "source": [
    "# Tennis analysis: data understanding and preparation"
   ]
  },
  {
   "cell_type": "code",
   "execution_count": 1,
   "id": "e93bddf6",
   "metadata": {
    "cell_id": "00000-71c79a3e-7455-499c-8291-a4004faed77e",
    "deepnote_cell_type": "code",
    "deepnote_to_be_reexecuted": false,
    "execution_millis": 3206,
    "execution_start": 1636710988660,
    "source_hash": "7ea4deca"
   },
   "outputs": [],
   "source": [
    "import pandas as pd\n",
    "import numpy as np\n",
    "\n",
    "# Visualization\n",
    "import matplotlib.pyplot as plt\n",
    "import plotly.express as px\n",
    "import plotly.io as pio\n",
    "import plotly.graph_objects as go\n",
    "pd.options.plotting.backend = 'plotly'\n",
    "pio.templates.default = \"seaborn\"\n",
    "\n",
    "# Read datasets\n",
    "df_tennis = pd.read_csv(\"../datasets/tennis_matches.csv\", index_col=0) # index_col takes the index from the csv rather than creating it automatically (i.e. unnamed col is removed)\n",
    "df_male = pd.read_csv(\"../datasets/male_players.csv\")\n",
    "df_female = pd.read_csv(\"../datasets/female_players.csv\")\n",
    "\n",
    "df_tennis.drop_duplicates(inplace=True)\n",
    "df_male.drop_duplicates(inplace=True)\n",
    "df_female.drop_duplicates(inplace=True)"
   ]
  },
  {
   "cell_type": "code",
   "execution_count": null,
   "id": "67edc767",
   "metadata": {
    "cell_id": "00002-68c692bb-ac51-4351-9a3b-7b7a195764f1",
    "deepnote_cell_type": "code",
    "deepnote_to_be_reexecuted": false,
    "execution_millis": 3,
    "execution_start": 1636710991879,
    "source_hash": "bb36616",
    "tags": []
   },
   "outputs": [],
   "source": [
    "# UTILS\n",
    "def get_stats(attribute):\n",
    "    stats = df_tennis[attribute].describe(datetime_is_numeric=True)\n",
    "    stats[\"missing\"] = df_tennis[attribute].isna().sum()\n",
    "    return stats"
   ]
  },
  {
   "cell_type": "markdown",
   "id": "d71aa399",
   "metadata": {
    "cell_id": "00003-76b86a9c-9e63-4dde-940a-80c3e8d12abf",
    "deepnote_cell_type": "markdown",
    "tags": []
   },
   "source": [
    "## Initial overview"
   ]
  },
  {
   "cell_type": "code",
   "execution_count": null,
   "id": "a2786425",
   "metadata": {
    "cell_id": "00003-7bd91af6-d7b8-40af-930e-bbb1fb04ff34",
    "deepnote_cell_type": "code",
    "deepnote_to_be_reexecuted": false,
    "execution_millis": 249,
    "execution_start": 1636710991897,
    "source_hash": "8edbb6ec",
    "tags": []
   },
   "outputs": [],
   "source": [
    "df_tennis.head()"
   ]
  },
  {
   "cell_type": "code",
   "execution_count": null,
   "id": "4da7d204",
   "metadata": {
    "cell_id": "00005-a6e241b4-62df-430f-9335-13c2bb28aa73",
    "deepnote_cell_type": "code",
    "deepnote_to_be_reexecuted": false,
    "execution_millis": 149,
    "execution_start": 1636710992148,
    "source_hash": "6116ee26",
    "tags": []
   },
   "outputs": [],
   "source": [
    "df_tennis.info()"
   ]
  },
  {
   "cell_type": "code",
   "execution_count": null,
   "id": "666d157b",
   "metadata": {
    "cell_id": "00007-bf4eb4eb-3e39-4ce5-9b0a-af8470ff6bde",
    "deepnote_cell_type": "code",
    "deepnote_to_be_reexecuted": false,
    "execution_millis": 860,
    "execution_start": 1636710992361,
    "source_hash": "aa4a5f39",
    "tags": []
   },
   "outputs": [],
   "source": [
    "df_tennis.describe(include=\"all\", datetime_is_numeric=True)"
   ]
  },
  {
   "cell_type": "markdown",
   "id": "e9a7f5e0",
   "metadata": {
    "cell_id": "00009-0b9e4269-8cc1-41d7-b0af-3ca14e779e56",
    "deepnote_cell_type": "markdown",
    "tags": []
   },
   "source": [
    "Fix the problem with date type and apply normalization on strings\n",
    "-   tourney_date is converted from float64 to a date object\n",
    "-   apply lowercase everywhere\n",
    "-   subsitute double spaces ('  ') with a single space \n",
    "-   remove leading and trailing spaces"
   ]
  },
  {
   "cell_type": "code",
   "execution_count": null,
   "id": "0fe6d577",
   "metadata": {
    "cell_id": "00003-34ac81a1-6109-4d34-960c-d8d7e244a3fc",
    "deepnote_cell_type": "code",
    "deepnote_to_be_reexecuted": false,
    "execution_millis": 12106,
    "execution_start": 1636710993218,
    "source_hash": "440502e",
    "tags": []
   },
   "outputs": [],
   "source": [
    "def preprocess_strings(df):\n",
    "    df = df.applymap(lambda x:x.lower().strip() if type(x) == str else x)\n",
    "    return df.replace(r\"\\s{2,}\", \" \", regex=True)\n",
    "\n",
    "# Change type for date\n",
    "df_tennis.tourney_date = pd.to_datetime(df_tennis.tourney_date, format='%Y%m%d')\n",
    "\n",
    "# Normalize strings\n",
    "df_tennis = preprocess_strings(df_tennis)\n",
    "df_male = preprocess_strings(df_male)\n",
    "df_female = preprocess_strings(df_female)"
   ]
  },
  {
   "cell_type": "markdown",
   "id": "c0b89b1e",
   "metadata": {},
   "source": [
    "More visual overview about null count for each attribute"
   ]
  },
  {
   "cell_type": "code",
   "execution_count": null,
   "id": "81c6d6c1",
   "metadata": {},
   "outputs": [],
   "source": [
    "x = pd.DataFrame(df_tennis.isna().sum())\n",
    "x.rename(columns={0: 'Missing values'}, inplace=True)\n",
    "x.index.name = 'Feature'\n",
    "x.reset_index(inplace=True)\n",
    "#x.set_index('Feature', inplace=True)\n",
    "\n",
    "fig = px.bar(x, x=\"Feature\", y=\"Missing values\", log_y=True)\n",
    "\n",
    "fig.update_layout(\n",
    "    xaxis_dtick = 1,\n",
    "    xaxis_tickangle = 45\n",
    ")\n",
    "\n",
    "fig.show()"
   ]
  },
  {
   "cell_type": "markdown",
   "id": "9bb739de",
   "metadata": {
    "cell_id": "00013-0dcf61c5-4b69-4240-9774-963c91ca04ef",
    "deepnote_cell_type": "markdown",
    "tags": []
   },
   "source": [
    "## Tennis matches: Attributes analysis\n",
    "Let's analyize and understand each attribute of the tennis matches dataset, to ensure high data quality by fixing wrong data, managing outliers and missing values"
   ]
  },
  {
   "cell_type": "markdown",
   "id": "b54fdfc1",
   "metadata": {
    "cell_id": "00016-5c898677-ff8c-4023-b7d3-a2131372cad2",
    "deepnote_cell_type": "markdown",
    "tags": []
   },
   "source": [
    "### tourney_id\n",
    "It's the ID of the tourney. By analyzing the length several groups have been found and each of them provides different information:\n",
    "- Length 8-9 contains 83024 observations\n",
    "    - year\n",
    "- Length 23-24 contains 100676 observations\n",
    "    - year, only woman tourney, country of the tourney, available on the itftennis.com website\n",
    "- Length 30-to-40 contains 2373 observations\n",
    "    - year, woman/man, country of the first and second player\n",
    "\n",
    "Every tourney has on average 38 matches."
   ]
  },
  {
   "cell_type": "code",
   "execution_count": null,
   "id": "478ed4b8",
   "metadata": {
    "cell_id": "00004-e15bdb1a-feea-4a0e-9f08-65cb472fc087",
    "deepnote_cell_type": "code",
    "deepnote_to_be_reexecuted": false,
    "execution_millis": 4769,
    "execution_start": 1636711005348,
    "source_hash": "56bd4e63",
    "tags": []
   },
   "outputs": [],
   "source": [
    "matches_per_tourney = df_tennis.groupby(\"tourney_id\").tourney_id.count() # 38\n",
    "\n",
    "ids_grouped_by_length = df_tennis.tourney_id.str.len().fillna(-1)\n",
    "ids_grouped_by_length = ids_grouped_by_length.groupby(ids_grouped_by_length).count()\n",
    "df = pd.DataFrame({\"tourney_id length\": ids_grouped_by_length.index.astype(int), \"count\": ids_grouped_by_length.values})\n",
    "\n",
    "# GROUPS\n",
    "tourney_id_8_9 = df_tennis[(df_tennis.tourney_id.str.len() >= 8) & (df_tennis.tourney_id.str.len() <= 9)]\n",
    "tourney_id_8_9_years = (tourney_id_8_9[\"tourney_id\"].str.split('-', expand=True)[[0]])\n",
    "\n",
    "tourney_id_23_24 = df_tennis[(df_tennis.tourney_id.str.len() >= 23) & (df_tennis.tourney_id.str.len() <= 24)]\n",
    "tourney_id_country_23_24 = (tourney_id_23_24[\"tourney_id\"].str.split('-', expand=True)[[3]]).stack().unique()\n",
    "\n",
    "tourney_id_30_to_40 = df_tennis[(df_tennis.tourney_id.str.len() >= 30) & (df_tennis.tourney_id.str.len() <= 40)]\n",
    "tourney_id_country30_to_40 = (tourney_id_23_24[\"tourney_id\"].str.split('-', expand=True)[[3]]).stack().unique()\n",
    "\n",
    "# Countries information\n",
    "tennis_23 = df_tennis[df_tennis['tourney_id'].str.len() == 23]\n",
    "countries_in_tennis_23 = (tennis_23[\"tourney_id\"].str.split('-', expand=True)[[3]]).stack().unique()\n",
    "countries_in_tennis_23\n",
    "\n",
    "px.bar(df, x='tourney_id length', y='count').show()\n",
    "print(get_stats(\"tourney_id\"))"
   ]
  },
  {
   "cell_type": "markdown",
   "id": "55b26f37",
   "metadata": {
    "cell_id": "00017-fe9ddeec-5e90-438b-96d6-05db9f6ebecc",
    "deepnote_cell_type": "markdown",
    "tags": []
   },
   "source": [
    "### tourney_name\n",
    "This is the name of the tourney and there are several representations that offers different informations such as city name, prize, nationalities of players, category (from which prize, number of events can be obtained).  \n",
    " \n",
    "Example of the different groups found:\n",
    "- Fed Cup WG F: USA vs BLR, Davis Cup Finals RR: FRA vs JPN\n",
    "- Biella CH\n",
    "- W25 Rome\n",
    "- Arad $10K"
   ]
  },
  {
   "cell_type": "code",
   "execution_count": null,
   "id": "5a4f6225",
   "metadata": {
    "cell_id": "00005-efec44d9-27db-409f-a897-e77caae49aba",
    "deepnote_cell_type": "code",
    "deepnote_to_be_reexecuted": false,
    "execution_millis": 699,
    "execution_start": 1636711009464,
    "source_hash": "29f0a07e",
    "tags": []
   },
   "outputs": [],
   "source": [
    "tourney_name_8_9 = df_tennis[(df_tennis.tourney_name.str.len() >= 8) & (df_tennis.tourney_name.str.len() <= 9)]\n",
    "print(tourney_name_8_9.tourney_name.unique())\n",
    "\n",
    "print(get_stats(\"tourney_name\"))"
   ]
  },
  {
   "cell_type": "markdown",
   "id": "3148f0cd",
   "metadata": {
    "cell_id": "00005-a03d8740-a8e5-4746-a4dc-68d255d3a50b",
    "deepnote_cell_type": "text-cell-h3",
    "is_collapsed": false,
    "tags": []
   },
   "source": [
    "### surface"
   ]
  },
  {
   "cell_type": "code",
   "execution_count": null,
   "id": "dcc31344",
   "metadata": {
    "cell_id": "00007-58fcf146-c8d0-452a-a754-2c2b9a83fc35",
    "deepnote_cell_type": "code",
    "deepnote_to_be_reexecuted": false,
    "execution_millis": 9,
    "execution_start": 1636711010154,
    "source_hash": "65b0caba",
    "tags": []
   },
   "outputs": [],
   "source": [
    "# Fix missing values\n",
    "df_tennis.loc[(df_tennis.surface.isna()) & (~df_tennis.tourney_id.isna()) & (df_tennis.tourney_id != \"2017-1059\"), \"surface\"] = df_tennis.surface.mode()[0]\n",
    "\n",
    "df = df_tennis.groupby(\"surface\").surface.count().reset_index(name = \"matches\")\n",
    "df.plot.bar(x=\"surface\", y=\"matches\", color=\"surface\").show()\n",
    "print(get_stats(\"surface\"))"
   ]
  },
  {
   "cell_type": "markdown",
   "id": "041bdc5b",
   "metadata": {
    "cell_id": "00005-8eb6ad89-6bcc-4482-8d3e-be9401301766",
    "deepnote_cell_type": "text-cell-h3",
    "is_collapsed": false,
    "tags": []
   },
   "source": [
    "### draw_size"
   ]
  },
  {
   "cell_type": "markdown",
   "id": "ea7e07bc",
   "metadata": {
    "cell_id": "00019-8e9572b4-7ff3-4fdc-990e-19eb34615a01",
    "deepnote_cell_type": "text-cell-p",
    "is_collapsed": false,
    "tags": []
   },
   "source": [
    "- 5% of tourneys have a larger draw size than the players in the tour"
   ]
  },
  {
   "cell_type": "code",
   "execution_count": null,
   "id": "6531e69a",
   "metadata": {
    "cell_id": "00009-c6fc10d1-4892-4d3f-8323-d9c58d1a9191",
    "deepnote_cell_type": "code",
    "deepnote_to_be_reexecuted": false,
    "execution_millis": 1393,
    "execution_start": 1636711010155,
    "source_hash": "4255a796",
    "tags": []
   },
   "outputs": [],
   "source": [
    "# The number of players in a draw, usually rounded to the next power of 2\n",
    "df = df_tennis.groupby([\"tourney_id\", \"draw_size\"]).tourney_id.agg([\"nunique\"]).reset_index()\n",
    "df = df.groupby([\"draw_size\"]).draw_size.agg(tourney=\"count\").reset_index()\n",
    "px.histogram(df, x=\"draw_size\", y=\"tourney\").show()\n",
    "\n",
    "# Estimate of unique players per tourney\n",
    "df_unique_winner_players = df_tennis.groupby([\"tourney_id\", \"winner_name\"]).tourney_id.agg(unique=\"nunique\").reset_index().rename({\"winner_name\":\"player\"}, axis='columns')\n",
    "df_unique_loser_players = df_tennis.groupby([\"tourney_id\", \"loser_name\"]).tourney_id.agg(unique=\"nunique\").reset_index().rename({\"loser_name\":\"player\"}, axis='columns')\n",
    "df_unique_players = pd.merge(df_unique_winner_players, df_unique_loser_players, how=\"inner\", on=[\"tourney_id\", \"player\", \"unique\"])\n",
    "df_unique_players_per_tourney = df_unique_players.groupby(\"tourney_id\").unique.agg(unique_players_per_tourney=\"sum\").reset_index()\n",
    "df_unique_players_per_tourney\n",
    "\n",
    "result = pd.merge(df_tennis, df_unique_players_per_tourney, how=\"inner\", on=[\"tourney_id\"])\n",
    "equals = (result.draw_size == result.unique_players_per_tourney).sum() / result.shape[0] * 100\n",
    "tourneis_with_draw_size_larger_than_players = result.loc[(result.draw_size <= result.unique_players_per_tourney)].groupby(\"tourney_id\").tourney_id.count().size\n",
    "print(f\"There are {tourneis_with_draw_size_larger_than_players / 4853 * 100}% tourneys with a draw size larger than the number of players partecipating\")\n",
    "\n",
    "# df_tennis[df_tennis.tourney_id==\"2016-0083\"]\n",
    "# df_draw_size_estimate[df_draw_size_estimate.tourney_id==\"2016-0083\"]\n",
    "\n",
    "print(get_stats(\"draw_size\"))"
   ]
  },
  {
   "cell_type": "markdown",
   "id": "de8e708b",
   "metadata": {
    "cell_id": "00025-50227398-898c-4d56-9ef5-8a1af71dcbcb",
    "deepnote_cell_type": "markdown",
    "tags": []
   },
   "source": [
    "### tourney_level\n",
    "It's the level of the tourney\n",
    "- Male: A C D (davis cup) F G M S\n",
    "- Female: D (fed billie jean king cup, wightman cup, bonnie bell cup) I P PM\n",
    "- MIXED: E (not sanctionated by tour) J (juniors) T (team tennis) - NOT IN THE DATASET RIGHT NOW\n",
    "- O olimpics 128 both male and female but not mixed\n",
    "- W - not in the documentation, it should be woman\n",
    "- ITF[10, 15, 25, 50, 60, 75, 80, 100] are the prizes"
   ]
  },
  {
   "cell_type": "code",
   "execution_count": null,
   "id": "be1aa28d",
   "metadata": {
    "cell_id": "00013-8c01f5f6-f718-4d7a-84ca-e196934b3dfc",
    "deepnote_cell_type": "code",
    "deepnote_to_be_reexecuted": false,
    "execution_millis": 129,
    "execution_start": 1636711011580,
    "source_hash": "723fbd15",
    "tags": []
   },
   "outputs": [],
   "source": [
    "# Tourney level 186099, 19 unique values, 29 missing\n",
    "df = df_tennis.groupby(df_tennis.tourney_level).tourney_id.count().reset_index(name=\"matches\").sort_values(by=\"matches\")\n",
    "df.plot.bar(x=\"tourney_level\", y=\"matches\").show()\n",
    "\n",
    "print(get_stats(\"tourney_level\"))"
   ]
  },
  {
   "cell_type": "markdown",
   "id": "f631abff",
   "metadata": {
    "cell_id": "00026-16f8a868-08ff-45e0-a090-14bdff6d1410",
    "deepnote_cell_type": "markdown",
    "tags": []
   },
   "source": [
    "### tourney_date\n",
    "It's the date of the tourney, usually it's the monday of the week.\n",
    "- The years between 2016-2019 are the most represented while 2020 and 2021 have less matches\n",
    "- November and December are the least represented months"
   ]
  },
  {
   "cell_type": "code",
   "execution_count": null,
   "id": "d759bdc6",
   "metadata": {
    "cell_id": "00004-d934ea1e-ddc4-4091-940b-ff234adfad18",
    "deepnote_cell_type": "code",
    "deepnote_to_be_reexecuted": false,
    "execution_millis": 3243,
    "execution_start": 1636711011709,
    "source_hash": "605d1816",
    "tags": []
   },
   "outputs": [],
   "source": [
    "# Grouped by day of the week\n",
    "df = df_tennis.groupby([df_tennis.tourney_date.dt.day_name().rename(\"day\")]).tourney_date.agg(matches=\"count\").reset_index()\n",
    "px.bar(df, x=\"day\", y=\"matches\", color=\"day\", barmode = 'group').show()\n",
    "\n",
    "# Grouped by month and year\n",
    "df = df_tennis.groupby([df_tennis.tourney_date.dt.month.rename(\"dmonth\"), df_tennis.tourney_date.dt.strftime('%b').rename(\"month\"), df_tennis.tourney_date.dt.year.rename(\"year\")]).tourney_date.agg(matches=\"count\").reset_index()\n",
    "px.bar(df, x=\"month\", y=\"matches\", color=\"year\", barmode = 'group').show()\n",
    "\n",
    "# Grouped by year\n",
    "df = df_tennis.tourney_date.value_counts().reset_index(name=\"count\").rename(columns={\"index\":\"date\"})\n",
    "df = df_tennis.groupby(df_tennis.tourney_date.dt.year.rename(\"year\")).tourney_date.agg(matches=\"count\").reset_index()\n",
    "px.bar(df, x=\"year\", y=\"matches\", color=\"year\", barmode = 'group').show()\n",
    "\n",
    "print(get_stats(\"tourney_date\"))"
   ]
  },
  {
   "cell_type": "code",
   "execution_count": null,
   "id": "3283ed38",
   "metadata": {
    "cell_id": "00026-bff970da-8a45-44e0-a8aa-680795d2410c",
    "deepnote_cell_type": "code",
    "deepnote_to_be_reexecuted": false,
    "execution_millis": 28,
    "execution_start": 1636711014090,
    "source_hash": "dd34a226",
    "tags": []
   },
   "outputs": [],
   "source": [
    "df_tennis.draw_size = df_tennis.draw_size.fillna(df_tennis.draw_size.median())\n"
   ]
  },
  {
   "cell_type": "markdown",
   "id": "2817938c",
   "metadata": {
    "cell_id": "00030-b24aac09-218b-43bd-9b45-20298d165e7c",
    "deepnote_cell_type": "text-cell-h3",
    "is_collapsed": false,
    "tags": []
   },
   "source": [
    "### score"
   ]
  },
  {
   "cell_type": "markdown",
   "id": "bec9983d",
   "metadata": {},
   "source": [
    "We progressively applied masks based on regex in order to identify all the erroneus values and all the possible formats."
   ]
  },
  {
   "cell_type": "markdown",
   "id": "7227451b",
   "metadata": {},
   "source": [
    "Every couple n1-n2 (e.g., 6-4) represents the score of a single set, where n1 are the games won by the winner and n2 those won by the loser of the match. When after the couple of numbers representing a set there is a number n3 between brackets (e.g., 7-6(4)), it means that the set ended at the tie-break and n3 represents the points scored during it by the loser of the set.<br><br>\n",
    "When we find a couple between square brackets (e.g. \\[10-7\\]), it represents the result of the super tie-break, which is played in some tourneys, on the 6-6 of the last set (on the 12-12 in Wimbledon). In these cases, the score of the final set is omitted.<br><br>\n",
    "We can also find some abbreviations, which indicate particular conditions:<br>\n",
    "<ul>\n",
    "<li>\"ret\", \"ret.\", \"re\", \"ret+64\": placed at the end of the score, to indicate the retirement of a player during the match.\n",
    "<li>\"w/o\", \"walkover\": it's the retirement of a player before the match starts. \n",
    "<li>\"def\", \"def.\": it's a default, i.e. the disqualification of a player.\n",
    "<li>\"bye\": It's the automatic advancement of a player to the next round of a tournament without facing an opponent.\n",
    "</ul>"
   ]
  },
  {
   "cell_type": "code",
   "execution_count": null,
   "id": "280a03db",
   "metadata": {
    "cell_id": "00031-6ea6619c-37e2-4151-b81a-bcc1d878faec",
    "deepnote_cell_type": "code",
    "deepnote_to_be_reexecuted": false,
    "execution_millis": 821,
    "execution_start": 1636711014131,
    "is_output_hidden": true,
    "source_hash": "4ef4964c",
    "tags": []
   },
   "outputs": [],
   "source": [
    "df_tennis['score'].value_counts()"
   ]
  },
  {
   "cell_type": "code",
   "execution_count": null,
   "id": "765c8920",
   "metadata": {
    "cell_id": "00032-da0606f7-9cfd-43df-8405-20c8239185b0",
    "deepnote_cell_type": "code",
    "deepnote_to_be_reexecuted": false,
    "execution_millis": 784,
    "execution_start": 1636711014205,
    "is_output_hidden": true,
    "source_hash": "23acf803",
    "tags": []
   },
   "outputs": [],
   "source": [
    "#\"ordinary score\": no super tie-breaks; no walkover, retirements etc.\n",
    "ordscr_regex = \"^((\\d-\\d)(\\(\\d{1,2}\\))? ){1,4}(\\d{1,2}-\\d{1,2})(\\(\\d{1,2}\\))?$\"\n",
    "nonos_mask = df_tennis['score'].str.match(ordscr_regex) == False\n",
    "df_tennis[nonos_mask]['score'].value_counts().head(10)"
   ]
  },
  {
   "cell_type": "code",
   "execution_count": null,
   "id": "ad347f01",
   "metadata": {
    "cell_id": "00034-1bff21d5-5aab-49a2-9ebd-9822105cccff",
    "deepnote_cell_type": "code",
    "deepnote_to_be_reexecuted": false,
    "execution_millis": 428,
    "execution_start": 1636711014975,
    "is_output_hidden": false,
    "source_hash": "9d965eb6",
    "tags": []
   },
   "outputs": [],
   "source": [
    "#matches with retirement score or walkover\n",
    "retscr_regex = \"(^((\\d-\\d)(\\(\\d{1,2}\\))? ){0,4}(\\d{1,2}-\\d{1,2})(\\(\\d{1,2}\\))? ret$)|(^w/o$)\"\n",
    "nonrs_mask = df_tennis['score'].str.match(retscr_regex) == False\n",
    "\n",
    "#points with super tie-break\n",
    "stbscr_regex = \"^((\\d-\\d)(\\(\\d{1,2}\\))? ){2,4}\\[\\d{1,2}-\\d{1,2}\\]( ret)?$\"\n",
    "nonss_mask = df_tennis['score'].str.match(stbscr_regex) == False\n",
    "\n",
    "df_tennis[nonos_mask & nonss_mask & nonrs_mask]['score'].value_counts()"
   ]
  },
  {
   "cell_type": "code",
   "execution_count": null,
   "id": "fb8e8182",
   "metadata": {
    "cell_id": "00035-26f46c02-38c4-4fb9-97b9-365584256e85",
    "deepnote_cell_type": "code",
    "deepnote_to_be_reexecuted": false,
    "execution_millis": 625,
    "execution_start": 1636711015458,
    "is_output_hidden": true,
    "source_hash": "ef2b7806",
    "tags": []
   },
   "outputs": [],
   "source": [
    "df_tennis['score'] = df_tennis['score'].str.replace('walkover', 'w/o')\n",
    "df_tennis['score'] = df_tennis['score'].str.replace('def.', 'def')\n",
    "df_tennis['score'] = df_tennis['score'].str.replace(r're$', 'ret', regex=True)\n",
    "df_tennis['score'] = df_tennis['score'].str.replace(r'ret\\+h64$', 'ret', regex=True)"
   ]
  },
  {
   "cell_type": "code",
   "execution_count": null,
   "id": "172448d2",
   "metadata": {
    "cell_id": "00036-66cd6b78-f3b3-4364-8d07-76fc9ce88acc",
    "deepnote_cell_type": "code",
    "deepnote_to_be_reexecuted": false,
    "execution_millis": 536,
    "execution_start": 1636711016115,
    "source_hash": "85d7d0c9",
    "tags": []
   },
   "outputs": [],
   "source": [
    "#recomputing masks\n",
    "nonss_mask = df_tennis['score'].str.match(stbscr_regex) == False\n",
    "nonrs_mask = df_tennis['score'].str.match(retscr_regex) == False\n",
    "df_tennis[nonos_mask & nonss_mask & nonrs_mask]['score'].value_counts()"
   ]
  },
  {
   "cell_type": "code",
   "execution_count": null,
   "id": "6f088fb3",
   "metadata": {
    "cell_id": "00037-d9d22d35-a089-406d-be90-60efae6cde59",
    "deepnote_cell_type": "code",
    "deepnote_to_be_reexecuted": false,
    "execution_millis": 575,
    "execution_start": 1636711016649,
    "source_hash": "85b1d7aa",
    "tags": []
   },
   "outputs": [],
   "source": [
    "#matches ended with a with default\n",
    "defscr_regex = \"(^def$)|(^((\\d-\\d)(\\(\\d{1,2}\\))? ){0,4}(\\d{1,2}-\\d{1,2})(\\(\\d{1,2}\\))? def$)|(^(((\\d-\\d)(\\(\\d{1,2}\\))? ){2,4}\\[\\d{1,2}-\\d{1,2}\\] def)$)\"\n",
    "nondef_mask = df_tennis['score'].str.match(defscr_regex) == False\n",
    "\n",
    "nonbye_mask = df_tennis['score'].str.match(\"bye\") == False\n",
    "df_tennis[nonos_mask & nonss_mask & nonrs_mask & nondef_mask & nonbye_mask]\n",
    "df_tennis[nonos_mask & nonss_mask & nonrs_mask & nondef_mask & nonbye_mask]['score'].value_counts()"
   ]
  },
  {
   "cell_type": "markdown",
   "id": "438baf14",
   "metadata": {},
   "source": [
    "The values above are the erroneus ones. Therefore we substituded them with NaN."
   ]
  },
  {
   "cell_type": "code",
   "execution_count": null,
   "id": "34e57df3",
   "metadata": {
    "cell_id": "00035-4e9d3e9e-53cd-4544-a2d7-e0bc5ea534d8",
    "deepnote_cell_type": "code",
    "deepnote_to_be_reexecuted": false,
    "execution_millis": 12,
    "execution_start": 1636711017232,
    "source_hash": "92ea8cfe",
    "tags": []
   },
   "outputs": [],
   "source": [
    "score_errors_indexes = df_tennis.index[nonos_mask & nonss_mask & nonrs_mask & nondef_mask & nonbye_mask].tolist()\n",
    "df_tennis.loc[score_errors_indexes, \"score\"] = np.nan"
   ]
  },
  {
   "cell_type": "markdown",
   "id": "24841f44",
   "metadata": {},
   "source": [
    "#### Computation of games won by the winner and by the loser"
   ]
  },
  {
   "cell_type": "code",
   "execution_count": null,
   "id": "932b919d",
   "metadata": {
    "cell_id": "00037-1f397770-7789-47f4-88d8-261f6bcb2811",
    "deepnote_cell_type": "code",
    "deepnote_to_be_reexecuted": false,
    "execution_millis": 348,
    "execution_start": 1636711017274,
    "source_hash": "9fc15607",
    "tags": []
   },
   "outputs": [],
   "source": [
    "#tie breaks\n",
    "df_tennis['score_norm'] = df_tennis['score'].str.replace(r'\\(\\d{1,2}\\)', '', regex=True)\n",
    "df_tennis[['score', 'score_norm']].head()"
   ]
  },
  {
   "cell_type": "code",
   "execution_count": null,
   "id": "4846abb8",
   "metadata": {
    "cell_id": "00038-26cd8060-8f7c-4b68-9076-39418f32d6bf",
    "deepnote_cell_type": "code",
    "deepnote_to_be_reexecuted": false,
    "execution_millis": 208,
    "execution_start": 1636711017586,
    "source_hash": "9fc15607",
    "tags": []
   },
   "outputs": [],
   "source": [
    "#tie breaks\n",
    "df_tennis['score_norm'] = df_tennis['score'].str.replace(r'\\(\\d{1,2}\\)', '', regex=True)\n",
    "df_tennis[['score', 'score_norm']].head()"
   ]
  },
  {
   "cell_type": "code",
   "execution_count": null,
   "id": "1a9a5506",
   "metadata": {
    "cell_id": "00039-26eb545f-61d5-43ee-a5d7-4e73da87b610",
    "deepnote_cell_type": "code",
    "deepnote_to_be_reexecuted": false,
    "execution_millis": 703,
    "execution_start": 1636711017811,
    "source_hash": "9452ee38",
    "tags": []
   },
   "outputs": [],
   "source": [
    "#super tie breaks\n",
    "ret_def_mask = (df_tennis['score'].str.match('.*(ret|def).*') == True) & (df_tennis['tourney_name'] != \"wimbledon\")\n",
    "wimbledon_mask = (df_tennis['tourney_name'] == \"wimbledon\") & (df_tennis['score'].str.match('.*(ret|def).*') == False)\n",
    "wimbledon_rd_mask = (df_tennis['tourney_name'] == \"wimbledon\") & (df_tennis['score'].str.match('.*(ret|def).*') == True)\n",
    "other_sit_mask = (df_tennis['tourney_name'] != \"wimbledon\") & (df_tennis['score'].str.match('.*(ret|def).*') == False)\n",
    "\n",
    "ret_def_indexes = df_tennis.index[ret_def_mask].tolist()\n",
    "wimbledon_indexes = df_tennis.index[wimbledon_mask].tolist()\n",
    "wimbledon_rd_indexes = df_tennis.index[wimbledon_rd_mask].tolist()\n",
    "other_sit_indexes = df_tennis.index[other_sit_mask].tolist()"
   ]
  },
  {
   "cell_type": "code",
   "execution_count": null,
   "id": "732e7052",
   "metadata": {
    "cell_id": "00040-6bbb2f29-0524-4cad-9e88-182b799effe7",
    "deepnote_cell_type": "code",
    "deepnote_to_be_reexecuted": false,
    "execution_millis": 938,
    "execution_start": 1636711018551,
    "source_hash": "39021d82",
    "tags": []
   },
   "outputs": [],
   "source": [
    "df_tennis.loc[other_sit_indexes, 'score_norm'] = df_tennis['score_norm'].str.replace(r'\\[\\d{1,2}-\\d{1,2}\\]', '7-6', regex=True)\n",
    "df_tennis.loc[wimbledon_indexes, 'score_norm'] = df_tennis['score_norm'].str.replace(r'\\[\\d{1,2}-\\d{1,2}\\]', '13-12', regex=True)\n",
    "df_tennis.loc[ret_def_indexes, 'score_norm'] = df_tennis['score_norm'].str.replace(r'\\[\\d{1,2}-\\d{1,2}\\]', '6-6', regex=True)\n",
    "df_tennis.loc[wimbledon_rd_indexes, 'score_norm'] = df_tennis['score_norm'].str.replace(r'\\[\\d{1,2}-\\d{1,2}\\]', '12-12', regex=True)"
   ]
  },
  {
   "cell_type": "code",
   "execution_count": null,
   "id": "13331888",
   "metadata": {
    "cell_id": "00041-30a47f2d-32a0-4068-af4d-ee405400918d",
    "deepnote_cell_type": "code",
    "deepnote_to_be_reexecuted": false,
    "execution_millis": 582,
    "execution_start": 1636711019489,
    "source_hash": "e23b9de4",
    "tags": []
   },
   "outputs": [],
   "source": [
    "selection_mask = df_tennis['score'].str.match('.*\\[\\d{1,2}-\\d{1,2}\\].*') == True\n",
    "df_tennis[selection_mask][['score', 'score_norm']].head()"
   ]
  },
  {
   "cell_type": "code",
   "execution_count": null,
   "id": "0a49cd87",
   "metadata": {
    "cell_id": "00042-3c4ed2a0-4fae-4a68-b688-3342e199395c",
    "deepnote_cell_type": "code",
    "deepnote_to_be_reexecuted": false,
    "execution_millis": 508,
    "execution_start": 1636711020070,
    "source_hash": "aa89b7e0",
    "tags": []
   },
   "outputs": [],
   "source": [
    "df_tennis['score_norm'] = df_tennis['score_norm'].fillna('')\n",
    "\n",
    "df_tennis['games_list'] = df_tennis['score_norm'].str.findall('\\d{1,2}')"
   ]
  },
  {
   "cell_type": "code",
   "execution_count": null,
   "id": "428dfa45",
   "metadata": {
    "cell_id": "00043-fe00e2c8-9315-47b0-a86d-59a8d3d25c71",
    "deepnote_cell_type": "code",
    "deepnote_to_be_reexecuted": false,
    "execution_millis": 18,
    "execution_start": 1636711020588,
    "source_hash": "e4d171e4",
    "tags": []
   },
   "outputs": [],
   "source": [
    "def w_games_won(games_list):\n",
    "    return sum(map(int, games_list[0::2]))\n",
    "\n",
    "def l_games_won(games_list):\n",
    "    return sum(map(int, games_list[1::2]))"
   ]
  },
  {
   "cell_type": "code",
   "execution_count": null,
   "id": "ef6c8af3",
   "metadata": {
    "cell_id": "00044-b2c3fa91-9492-43f4-8063-7acfb62026f6",
    "deepnote_cell_type": "code",
    "deepnote_to_be_reexecuted": false,
    "execution_millis": 958,
    "execution_start": 1636711020607,
    "source_hash": "1bed71e0",
    "tags": []
   },
   "outputs": [],
   "source": [
    "df_tennis['w_gmsWon'] = df_tennis['games_list'].apply(w_games_won)\n",
    "df_tennis['l_gmsWon'] = df_tennis['games_list'].apply(l_games_won)\n",
    "df_tennis[['score', 'score_norm', 'games_list', 'w_gmsWon', 'l_gmsWon']].head()"
   ]
  },
  {
   "cell_type": "markdown",
   "id": "1e2cca51",
   "metadata": {},
   "source": [
    "### w_ace, l_ace"
   ]
  },
  {
   "cell_type": "code",
   "execution_count": null,
   "id": "4ce3a858",
   "metadata": {},
   "outputs": [],
   "source": [
    "px.box(df_tennis, y=[\"w_ace\", \"l_ace\"]).show()"
   ]
  },
  {
   "cell_type": "markdown",
   "id": "ad5785d2",
   "metadata": {},
   "source": [
    "#### Analysis of bigger outliers - w_ace"
   ]
  },
  {
   "cell_type": "code",
   "execution_count": null,
   "id": "9731368e",
   "metadata": {},
   "outputs": [],
   "source": [
    "df_tennis[[\"w_ace\", \"score\"]].sort_values(by='w_ace', ascending=False).head(10)"
   ]
  },
  {
   "cell_type": "markdown",
   "id": "fe5dcc55",
   "metadata": {},
   "source": [
    "Looking at the scores, the second highest value looks suspicious."
   ]
  },
  {
   "cell_type": "markdown",
   "id": "991d2822",
   "metadata": {},
   "source": [
    "#### Analysis of bigger outliers - l_ace"
   ]
  },
  {
   "cell_type": "code",
   "execution_count": null,
   "id": "f1ea8515",
   "metadata": {},
   "outputs": [],
   "source": [
    "df_tennis[[\"l_ace\", \"score\"]].sort_values(by='l_ace', ascending=False).head(10)"
   ]
  },
  {
   "cell_type": "markdown",
   "id": "7e1c8431",
   "metadata": {},
   "source": [
    "Looking at the scores, there are not implausible values for this attribute bigger outliers."
   ]
  },
  {
   "cell_type": "markdown",
   "id": "ad5c857e",
   "metadata": {},
   "source": [
    "### w_df, l_df"
   ]
  },
  {
   "cell_type": "code",
   "execution_count": null,
   "id": "5ad41f15",
   "metadata": {},
   "outputs": [],
   "source": [
    "px.box(df_tennis, y=[\"w_df\", \"l_df\"]).show()"
   ]
  },
  {
   "cell_type": "markdown",
   "id": "4662c5c1",
   "metadata": {},
   "source": [
    "#### Analysis of the biggest  outliers - w_df"
   ]
  },
  {
   "cell_type": "code",
   "execution_count": null,
   "id": "991fdb22",
   "metadata": {},
   "outputs": [],
   "source": [
    "df_tennis[[\"w_df\", \"score\"]].sort_values(by='w_df', ascending=False).head(10)"
   ]
  },
  {
   "cell_type": "markdown",
   "id": "819043bf",
   "metadata": {},
   "source": [
    "Looking at the scores, the three highest values look suspicious."
   ]
  },
  {
   "cell_type": "markdown",
   "id": "8aa1d639",
   "metadata": {},
   "source": [
    "#### Analysis of the biggest  outliers - l_df"
   ]
  },
  {
   "cell_type": "code",
   "execution_count": null,
   "id": "3ed7c600",
   "metadata": {},
   "outputs": [],
   "source": [
    "df_tennis[[\"l_df\", \"score\"]].sort_values(by='l_df', ascending=False).head(10)"
   ]
  },
  {
   "cell_type": "markdown",
   "id": "84021ac2",
   "metadata": {},
   "source": [
    "Looking at the scores, the two highest values look suspicious."
   ]
  },
  {
   "cell_type": "markdown",
   "id": "240868c5",
   "metadata": {},
   "source": [
    "### w_svpt, l_svpt"
   ]
  },
  {
   "cell_type": "code",
   "execution_count": null,
   "id": "47aa8ecf",
   "metadata": {},
   "outputs": [],
   "source": [
    "px.box(df_tennis, y=[\"w_svpt\", \"l_svpt\"]).show()"
   ]
  },
  {
   "cell_type": "markdown",
   "id": "9a1a1c80",
   "metadata": {},
   "source": [
    "#### Analysis of the biggest  outliers - w_svpt"
   ]
  },
  {
   "cell_type": "code",
   "execution_count": null,
   "id": "ecfdf1d5",
   "metadata": {},
   "outputs": [],
   "source": [
    "df_tennis[[\"w_svpt\", \"score\"]].sort_values(by='w_svpt', ascending=False).head(10)"
   ]
  },
  {
   "cell_type": "markdown",
   "id": "392b60c6",
   "metadata": {},
   "source": [
    "Looking at the scores, the five highest values are totally implausible."
   ]
  },
  {
   "cell_type": "markdown",
   "id": "b5ec9178",
   "metadata": {},
   "source": [
    "#### Analysis of the biggest  outliers - l_svpt"
   ]
  },
  {
   "cell_type": "code",
   "execution_count": null,
   "id": "a92a6765",
   "metadata": {},
   "outputs": [],
   "source": [
    "df_tennis[[\"l_svpt\", \"score\"]].sort_values(by='l_svpt', ascending=False).head(10)"
   ]
  },
  {
   "cell_type": "markdown",
   "id": "24cb8644",
   "metadata": {},
   "source": [
    "Looking at the scores, the five highest values are totally implausible."
   ]
  },
  {
   "cell_type": "markdown",
   "id": "9ce2c240",
   "metadata": {},
   "source": [
    "### w_1stIn, w_1stWon, w_2ndWon and loser's ones"
   ]
  },
  {
   "cell_type": "code",
   "execution_count": null,
   "id": "246a0d10",
   "metadata": {},
   "outputs": [],
   "source": [
    "px.box(df_tennis, y=[\"w_1stIn\", \"w_1stWon\", \"w_2ndWon\"]).show()"
   ]
  },
  {
   "cell_type": "code",
   "execution_count": null,
   "id": "06eeffb5",
   "metadata": {},
   "outputs": [],
   "source": [
    "px.box(df_tennis, y=[\"l_1stIn\", \"l_1stWon\", \"l_2ndWon\"]).show()"
   ]
  },
  {
   "cell_type": "markdown",
   "id": "3b271c9c",
   "metadata": {},
   "source": [
    "#### Analysis of the biggest  outliers - w_1stIn"
   ]
  },
  {
   "cell_type": "code",
   "execution_count": null,
   "id": "6d8bacfb",
   "metadata": {},
   "outputs": [],
   "source": [
    "df_tennis[[\"w_1stIn\", \"score\"]].sort_values(by='w_1stIn', ascending=False).head(10)"
   ]
  },
  {
   "cell_type": "markdown",
   "id": "63621b06",
   "metadata": {},
   "source": [
    "Looking at the scores, the five highest values are totally implausible."
   ]
  },
  {
   "cell_type": "markdown",
   "id": "6aa6b155",
   "metadata": {},
   "source": [
    "#### Analysis of the biggest outliers - l_1stIn"
   ]
  },
  {
   "cell_type": "code",
   "execution_count": null,
   "id": "f3225d11",
   "metadata": {},
   "outputs": [],
   "source": [
    "df_tennis[[\"l_1stIn\", \"score\"]].sort_values(by='l_1stIn', ascending=False).head(10)"
   ]
  },
  {
   "cell_type": "markdown",
   "id": "f2ab7d3a",
   "metadata": {},
   "source": [
    "Looking at the scores, the five highest values are totally implausible."
   ]
  },
  {
   "cell_type": "markdown",
   "id": "52ef92ad",
   "metadata": {},
   "source": [
    "#### Analysis of the biggest outliers - w_1stWon"
   ]
  },
  {
   "cell_type": "code",
   "execution_count": null,
   "id": "cef1fb75",
   "metadata": {},
   "outputs": [],
   "source": [
    "df_tennis[[\"w_1stWon\", \"score\"]].sort_values(by='w_1stWon', ascending=False).head(10)"
   ]
  },
  {
   "cell_type": "markdown",
   "id": "ad4200bb",
   "metadata": {},
   "source": [
    "Looking at the scores, the five highest values are totally implausible."
   ]
  },
  {
   "cell_type": "markdown",
   "id": "06b4d254",
   "metadata": {},
   "source": [
    "#### Analysis of the biggest outliers - l_1stWon"
   ]
  },
  {
   "cell_type": "code",
   "execution_count": null,
   "id": "8a6efd2e",
   "metadata": {},
   "outputs": [],
   "source": [
    "df_tennis[[\"l_1stWon\", \"score\"]].sort_values(by='l_1stWon', ascending=False).head(10)"
   ]
  },
  {
   "cell_type": "markdown",
   "id": "5ca1e41d",
   "metadata": {},
   "source": [
    "Looking at the scores, the five highest values are totally implausible."
   ]
  },
  {
   "cell_type": "markdown",
   "id": "c44e7710",
   "metadata": {},
   "source": [
    "#### Analysis of the biggest outliers - w_2ndWon"
   ]
  },
  {
   "cell_type": "code",
   "execution_count": null,
   "id": "73836f3e",
   "metadata": {},
   "outputs": [],
   "source": [
    "df_tennis[[\"w_2ndWon\" ,\"score\"]].sort_values(by='w_2ndWon', ascending=False).head(10)"
   ]
  },
  {
   "cell_type": "markdown",
   "id": "84902bb0",
   "metadata": {},
   "source": [
    "Looking at the scores, the four highest values are totally implausible."
   ]
  },
  {
   "cell_type": "markdown",
   "id": "262579c1",
   "metadata": {},
   "source": [
    "#### Analysis of the biggest outliers - l_2ndWon"
   ]
  },
  {
   "cell_type": "code",
   "execution_count": null,
   "id": "c7b6a6fc",
   "metadata": {},
   "outputs": [],
   "source": [
    "df_tennis[[\"l_2ndWon\", \"score\"]].sort_values(by='l_2ndWon', ascending=False).head(10)"
   ]
  },
  {
   "cell_type": "markdown",
   "id": "49c162c5",
   "metadata": {},
   "source": [
    "Looking at the scores, the four highest values are totally implausible."
   ]
  },
  {
   "cell_type": "markdown",
   "id": "c5e8b0b2",
   "metadata": {},
   "source": [
    "### w_bpFaced, w_bpSaved and loser's ones"
   ]
  },
  {
   "cell_type": "code",
   "execution_count": null,
   "id": "2e5a6b74",
   "metadata": {},
   "outputs": [],
   "source": [
    "px.box(df_tennis, y=[\"w_bpFaced\", \"w_bpSaved\"]).show()"
   ]
  },
  {
   "cell_type": "code",
   "execution_count": null,
   "id": "ad8b5958",
   "metadata": {},
   "outputs": [],
   "source": [
    "px.box(df_tennis, y=[\"l_bpFaced\", \"l_bpSaved\"]).show()"
   ]
  },
  {
   "cell_type": "markdown",
   "id": "d73bf2ff",
   "metadata": {},
   "source": [
    "#### Analysis of the biggest outliers - w_bpFaced"
   ]
  },
  {
   "cell_type": "code",
   "execution_count": null,
   "id": "a83d5c02",
   "metadata": {},
   "outputs": [],
   "source": [
    "df_tennis[[\"w_bpFaced\", \"score\"]].sort_values(by='w_bpFaced', ascending=False).head(10)"
   ]
  },
  {
   "cell_type": "markdown",
   "id": "12596bbf",
   "metadata": {},
   "source": [
    "Looking at the scores, the three highest values are totally implausible."
   ]
  },
  {
   "cell_type": "markdown",
   "id": "8f71b680",
   "metadata": {},
   "source": [
    "#### Analysis of the biggest outliers - l_bpFaced"
   ]
  },
  {
   "cell_type": "code",
   "execution_count": null,
   "id": "6a037db6",
   "metadata": {},
   "outputs": [],
   "source": [
    "df_tennis[[\"l_bpFaced\", \"score\"]].sort_values(by='l_bpFaced', ascending=False).head(10)"
   ]
  },
  {
   "cell_type": "markdown",
   "id": "c6562067",
   "metadata": {},
   "source": [
    "Looking at the scores, the five highest values are totally implausible."
   ]
  },
  {
   "cell_type": "markdown",
   "id": "f0d7fb18",
   "metadata": {},
   "source": [
    "#### Analysis of the biggest outliers - w_bpSaved"
   ]
  },
  {
   "cell_type": "code",
   "execution_count": null,
   "id": "4184923a",
   "metadata": {},
   "outputs": [],
   "source": [
    "df_tennis[[\"w_bpSaved\", \"score\"]].sort_values(by='w_bpSaved', ascending=False).head(10)"
   ]
  },
  {
   "cell_type": "markdown",
   "id": "89c8a36d",
   "metadata": {},
   "source": [
    "Looking at the scores, the two highest values are totally implausible."
   ]
  },
  {
   "cell_type": "markdown",
   "id": "1419a1dc",
   "metadata": {},
   "source": [
    "#### Analysis of the biggest outliers - l_bpSaved"
   ]
  },
  {
   "cell_type": "code",
   "execution_count": null,
   "id": "9b687331",
   "metadata": {},
   "outputs": [],
   "source": [
    "df_tennis[[\"l_bpSaved\", \"score\"]].sort_values(by='l_bpSaved', ascending=False).head(10)"
   ]
  },
  {
   "cell_type": "markdown",
   "id": "42cfc152",
   "metadata": {},
   "source": [
    "Looking at the scores, the three highest values are totally implausible."
   ]
  },
  {
   "cell_type": "markdown",
   "id": "50a8a4d5",
   "metadata": {},
   "source": [
    "### w_SvGms, l_SvGms"
   ]
  },
  {
   "cell_type": "code",
   "execution_count": null,
   "id": "4eb4e437",
   "metadata": {},
   "outputs": [],
   "source": [
    "px.box(df_tennis, y=[\"w_SvGms\", \"l_SvGms\"]).show()"
   ]
  },
  {
   "cell_type": "markdown",
   "id": "866090be",
   "metadata": {},
   "source": [
    "#### Analysis of the biggest outliers - w_SvGms"
   ]
  },
  {
   "cell_type": "code",
   "execution_count": null,
   "id": "78622e53",
   "metadata": {},
   "outputs": [],
   "source": [
    "df_tennis.columns"
   ]
  },
  {
   "cell_type": "code",
   "execution_count": null,
   "id": "7f760327",
   "metadata": {},
   "outputs": [],
   "source": [
    "df_tennis[[\"w_SvGms\", \"w_gmsWon\", \"l_gmsWon\"]].sort_values(by='w_SvGms', ascending=False).head(20)"
   ]
  },
  {
   "cell_type": "markdown",
   "id": "f779503e",
   "metadata": {},
   "source": [
    "Looking at the number of games played, the outliers have plausible values."
   ]
  },
  {
   "cell_type": "markdown",
   "id": "bc9a018c",
   "metadata": {},
   "source": [
    "#### Analysis of the smallest outliers - w_SvGms"
   ]
  },
  {
   "cell_type": "code",
   "execution_count": null,
   "id": "d5a3f9f2",
   "metadata": {},
   "outputs": [],
   "source": [
    "df_tennis[[\"w_SvGms\", \"w_gmsWon\", \"l_gmsWon\"]].sort_values(by='w_SvGms', ascending=True).head(30)"
   ]
  },
  {
   "cell_type": "markdown",
   "id": "66f1ad4b",
   "metadata": {},
   "source": [
    "Most of the ouliers with a value equal to 0 are erroneus (the number of games played is much greater than 0). But we don't apply any correction because it's a  not significant attribute, that we won't use later."
   ]
  },
  {
   "cell_type": "markdown",
   "id": "11268561",
   "metadata": {},
   "source": [
    "#### Analysis of the biggest outliers - l_SvGms"
   ]
  },
  {
   "cell_type": "code",
   "execution_count": null,
   "id": "d70801b0",
   "metadata": {},
   "outputs": [],
   "source": [
    "df_tennis[[\"l_SvGms\",  \"w_gmsWon\", \"l_gmsWon\"]].sort_values(by='l_SvGms', ascending=False).head(30)"
   ]
  },
  {
   "cell_type": "markdown",
   "id": "86deec0a",
   "metadata": {},
   "source": [
    "Looking at the number of games played, the outliers have plausible values."
   ]
  },
  {
   "cell_type": "markdown",
   "id": "1794e4e7",
   "metadata": {},
   "source": [
    "#### Analysis of the smallest outliers - l_SvGms"
   ]
  },
  {
   "cell_type": "code",
   "execution_count": null,
   "id": "956b676a",
   "metadata": {},
   "outputs": [],
   "source": [
    "df_tennis[[\"l_SvGms\", \"w_gmsWon\", \"l_gmsWon\"]].sort_values(by='l_SvGms', ascending=True).head(30)"
   ]
  },
  {
   "cell_type": "markdown",
   "id": "fc5b01d6",
   "metadata": {},
   "source": [
    "Most of the ouliers with a value equal to 0 are erroneus (the number of games played is much greater than 0). But we don't apply any correction because it's a not significant attribute, that we won't use later."
   ]
  },
  {
   "cell_type": "markdown",
   "id": "950d1ffa",
   "metadata": {},
   "source": [
    "### Preprocessing based on in-match statistics outliers\n",
    "For the attributes in the table below, during the outliers analysis we noticed that there were 5 recurrent instances (such as these that have the five highest values for l_svpt) in which the values were usually extremely high and sometimes totally implausible considering the score of the match. Therefore we dropped the corresponding rows."
   ]
  },
  {
   "cell_type": "code",
   "execution_count": null,
   "id": "99712bf8",
   "metadata": {},
   "outputs": [],
   "source": [
    "outliers_indexes = df_tennis[[\"l_svpt\"]].sort_values(by='l_svpt', ascending=False).head(5).index.tolist()\n",
    "df_outliers = df_tennis.loc[outliers_indexes]\n",
    "df_outliers[['w_ace', 'w_df', 'w_svpt', 'w_1stIn', 'w_1stWon', 'w_2ndWon', 'w_bpSaved', 'w_bpFaced', 'l_df', 'l_svpt', 'l_1stIn', 'l_1stWon', 'l_2ndWon', 'l_bpSaved', 'l_bpFaced']]"
   ]
  },
  {
   "cell_type": "code",
   "execution_count": null,
   "id": "2df4d9b6",
   "metadata": {
    "cell_id": "00045-75e6413a-cf30-4bfa-aaea-cd536ecb4137",
    "deepnote_cell_type": "code",
    "deepnote_to_be_reexecuted": false,
    "execution_millis": 92,
    "execution_start": 1636711021571,
    "source_hash": "19edce3c",
    "tags": []
   },
   "outputs": [],
   "source": [
    "df_tennis = df_tennis.drop(outliers_indexes)"
   ]
  },
  {
   "cell_type": "markdown",
   "id": "3ba79248",
   "metadata": {},
   "source": [
    "### winner_rank, loser_rank"
   ]
  },
  {
   "cell_type": "code",
   "execution_count": null,
   "id": "a6cc7cdf",
   "metadata": {},
   "outputs": [],
   "source": [
    "px.box(df_tennis, y=[\"winner_rank\", \"loser_rank\"]).show()"
   ]
  },
  {
   "cell_type": "markdown",
   "id": "10cafdc2",
   "metadata": {},
   "source": [
    "The values seem to be plausible, in relation to the total number of players"
   ]
  },
  {
   "cell_type": "code",
   "execution_count": null,
   "id": "a25cdd49",
   "metadata": {},
   "outputs": [],
   "source": [
    "len(df_tennis[\"winner_name\"].unique())"
   ]
  },
  {
   "cell_type": "markdown",
   "id": "e965a042",
   "metadata": {},
   "source": [
    "### winner_rank_points, loser_rank_points"
   ]
  },
  {
   "cell_type": "code",
   "execution_count": null,
   "id": "8f2991e9",
   "metadata": {},
   "outputs": [],
   "source": [
    "px.box(df_tennis, y=[\"winner_rank_points\", \"loser_rank_points\"]).show()"
   ]
  },
  {
   "cell_type": "code",
   "execution_count": null,
   "id": "f1da4d86",
   "metadata": {},
   "outputs": [],
   "source": [
    "selection_mask = df_tennis['winner_rank_points'] > df_tennis['winner_rank_points'].quantile(0.999)\n",
    "df_outliers = df_tennis[selection_mask]\n",
    "df_outliers['winner_name'].unique()"
   ]
  },
  {
   "cell_type": "code",
   "execution_count": null,
   "id": "56776d05",
   "metadata": {},
   "outputs": [],
   "source": [
    "selection_mask = df_tennis['loser_rank_points'] > df_tennis['loser_rank_points'].quantile(0.999)\n",
    "df_outliers = df_tennis[selection_mask]\n",
    "df_outliers['loser_name'].unique()"
   ]
  },
  {
   "cell_type": "markdown",
   "id": "e8f77d99",
   "metadata": {},
   "source": [
    "The players with the biggest ranking points are as expected among the strongest ones."
   ]
  },
  {
   "cell_type": "markdown",
   "id": "48740d77",
   "metadata": {},
   "source": [
    "### minutes"
   ]
  },
  {
   "cell_type": "code",
   "execution_count": null,
   "id": "43a75899",
   "metadata": {},
   "outputs": [],
   "source": [
    "px.box(df_tennis, y=\"minutes\").show()"
   ]
  },
  {
   "cell_type": "code",
   "execution_count": null,
   "id": "2117a00c",
   "metadata": {},
   "outputs": [],
   "source": [
    "df_tennis[[\"minutes\", \"score\"]].sort_values(by='minutes', ascending=False).head(20)"
   ]
  },
  {
   "cell_type": "markdown",
   "id": "df69d22d",
   "metadata": {},
   "source": [
    "Looking at the score, we noticed that are the outliers with a value greater than 396 are implausible, therefore we set to NaN the corresponding values."
   ]
  },
  {
   "cell_type": "code",
   "execution_count": null,
   "id": "9666a4b2",
   "metadata": {
    "cell_id": "00046-37e1fdb7-0a5c-45b2-a47b-a65a47ce585f",
    "deepnote_cell_type": "code",
    "deepnote_to_be_reexecuted": false,
    "execution_millis": 0,
    "execution_start": 1636711021703,
    "source_hash": "9c2dc8d5",
    "tags": []
   },
   "outputs": [],
   "source": [
    "outliers_mask = (df_tennis['minutes'] > 396.0)\n",
    "outliers_indexes = df_tennis.index[outliers_mask].tolist()\n",
    "df_tennis.loc[outliers_indexes, 'minutes'] = np.nan"
   ]
  },
  {
   "cell_type": "code",
   "execution_count": null,
   "id": "ae2b8db8",
   "metadata": {},
   "outputs": [],
   "source": [
    "px.histogram(df_tennis, x=\"minutes\").show()"
   ]
  },
  {
   "cell_type": "markdown",
   "id": "99f12f21",
   "metadata": {
    "cell_id": "00031-85b94076-6577-45c3-a79b-5bf92b4f66cb",
    "deepnote_cell_type": "text-cell-h3",
    "is_collapsed": false,
    "tags": []
   },
   "source": [
    "### tourney_revenue"
   ]
  },
  {
   "cell_type": "code",
   "execution_count": null,
   "id": "7033e8ff",
   "metadata": {},
   "outputs": [],
   "source": [
    "px.histogram(df_tennis, x=\"tourney_revenue\").show()"
   ]
  },
  {
   "cell_type": "code",
   "execution_count": null,
   "id": "5693768e",
   "metadata": {},
   "outputs": [],
   "source": [
    "px.box(df_tennis, y=\"tourney_revenue\").show()"
   ]
  },
  {
   "cell_type": "markdown",
   "id": "4161e0cc",
   "metadata": {},
   "source": [
    "#### Analysis of the biggest and the smallest outliers"
   ]
  },
  {
   "cell_type": "code",
   "execution_count": null,
   "id": "61c0502e",
   "metadata": {
    "cell_id": "00030-a2db17f8-d032-4625-96e4-5a44b829166b",
    "deepnote_cell_type": "code",
    "deepnote_to_be_reexecuted": false,
    "execution_millis": 12,
    "execution_start": 1636711021704,
    "source_hash": "326bbff3",
    "tags": []
   },
   "outputs": [],
   "source": [
    "selection_mask = df_tennis['tourney_revenue'] > df_tennis['tourney_revenue'].quantile(0.99)\n",
    "df_outliers = df_tennis[selection_mask]\n",
    "df_outliers['tourney_name'].unique()"
   ]
  },
  {
   "cell_type": "markdown",
   "id": "ceb093b9",
   "metadata": {},
   "source": [
    "The tourneys with the biggest revenues are as expected two of the most important ones."
   ]
  },
  {
   "cell_type": "code",
   "execution_count": null,
   "id": "1806e7c5",
   "metadata": {
    "cell_id": "00031-33117add-c4b0-46ae-8356-c3336e70a83f",
    "deepnote_cell_type": "code",
    "deepnote_to_be_reexecuted": false,
    "execution_millis": 1337,
    "execution_start": 1636711021716,
    "source_hash": "b75f799c",
    "tags": []
   },
   "outputs": [],
   "source": [
    "selection_mask = df_tennis['tourney_revenue'] < df_tennis['tourney_revenue'].quantile(0.01)\n",
    "df_outliers = df_tennis[selection_mask]\n",
    "df_outliers['tourney_name'].unique()"
   ]
  },
  {
   "cell_type": "markdown",
   "id": "75320eb8",
   "metadata": {},
   "source": [
    "### tourney_spectators"
   ]
  },
  {
   "cell_type": "code",
   "execution_count": null,
   "id": "b03aedef",
   "metadata": {
    "cell_id": "00036-7729579e-4bf0-43c4-8170-e5ca4e4a70aa",
    "deepnote_cell_type": "code",
    "deepnote_to_be_reexecuted": false,
    "execution_millis": 1025,
    "execution_start": 1636711024233,
    "source_hash": "132bc314",
    "tags": []
   },
   "outputs": [],
   "source": [
    "px.histogram(df_tennis, x=\"tourney_spectators\").show()"
   ]
  },
  {
   "cell_type": "code",
   "execution_count": null,
   "id": "361e83ce",
   "metadata": {
    "cell_id": "00037-ee363a59-c276-4510-bba6-2fa87fc49ec7",
    "deepnote_cell_type": "code",
    "deepnote_to_be_reexecuted": false,
    "execution_millis": 924,
    "execution_start": 1636711025245,
    "source_hash": "50ee3dc4",
    "tags": []
   },
   "outputs": [],
   "source": [
    "px.box(df_tennis, y=\"tourney_spectators\").show()"
   ]
  },
  {
   "cell_type": "markdown",
   "id": "5410b044",
   "metadata": {},
   "source": [
    "#### Analysis of the biggest and the smallest outliers"
   ]
  },
  {
   "cell_type": "code",
   "execution_count": null,
   "id": "36c407d0",
   "metadata": {
    "cell_id": "00038-a4436fcd-a226-416d-b8c4-c006e61f7e9f",
    "deepnote_cell_type": "code",
    "deepnote_to_be_reexecuted": false,
    "execution_millis": 1284640288,
    "execution_start": 1636711026173,
    "source_hash": "b838ef7e",
    "tags": []
   },
   "outputs": [],
   "source": [
    "selection_mask = df_tennis['tourney_spectators'] > df_tennis['tourney_spectators'].quantile(0.99)\n",
    "df_outliers = df_tennis[selection_mask]\n",
    "df_outliers['tourney_name'].unique()"
   ]
  },
  {
   "cell_type": "markdown",
   "id": "527eee84",
   "metadata": {},
   "source": [
    "The tourneys with the biggest revenues are as expected among the most important ones."
   ]
  },
  {
   "cell_type": "code",
   "execution_count": null,
   "id": "e4a50e83",
   "metadata": {
    "cell_id": "00040-36c3fe78-2750-4706-acae-585a2084fcb0",
    "deepnote_cell_type": "code",
    "deepnote_to_be_reexecuted": false,
    "execution_millis": 8,
    "execution_start": 1636711026177,
    "source_hash": "6bbe6b60",
    "tags": []
   },
   "outputs": [],
   "source": [
    "selection_mask = df_tennis['tourney_revenue'] < df_tennis['tourney_revenue'].quantile(0.01)\n",
    "df_outliers = df_tennis[selection_mask]\n",
    "df_outliers['tourney_name'].unique()"
   ]
  },
  {
   "cell_type": "markdown",
   "id": "a39b082b",
   "metadata": {
    "cell_id": "00049-232f035a-aaf6-49cc-a756-0831a6d7e042",
    "deepnote_cell_type": "text-cell-h3",
    "is_collapsed": false,
    "tags": []
   },
   "source": [
    "### round"
   ]
  },
  {
   "cell_type": "markdown",
   "id": "0ed33a5c",
   "metadata": {
    "cell_id": "00048-38f5cf8b-3a30-42a9-b5aa-982034b2e026",
    "deepnote_cell_type": "markdown",
    "tags": []
   },
   "source": [
    "An acronym which identifies the stage of the match inside the tournament.\n",
    "\n",
    "https://en.wikipedia.org/wiki/Tennis_performance_timeline_comparison_(men)\n",
    "\n",
    "The values can be:\n",
    "\n",
    "\n",
    "\n",
    "*   'F': which identifies the final match\n",
    "*   'SF': which identifies the semifinal match\n",
    "*   'QF': which identifies the quarter finals match\n",
    "*   'R16': which identifies the match at the stage of the last 16 partecipants\n",
    "*   'R32': which identifies the match at the stage of the last 32 partecipants\n",
    "*   'R64': which identifies the match at the stage of the last 64 partecipants\n",
    "*   'R128': which identifies the match at the stage of the last 128 partecipants\n",
    "*   'RR': which identifies the match in 'Round Robbin' case, that is when each partecipant meets all other contestants in turn\n",
    "*   'BR': it isn't listed on wiki, there are just 5 results for 'BR' on the dataset, checking results of those games online it seems to refer to the bronze medal. So te game for third and fourth position.\n",
    "\n",
    "Number of missing values = 42"
   ]
  },
  {
   "cell_type": "code",
   "execution_count": null,
   "id": "c770a17b",
   "metadata": {
    "cell_id": "00049-e370505e-a910-4bb3-9cad-65e6de841ac9",
    "deepnote_cell_type": "code",
    "deepnote_to_be_reexecuted": false,
    "execution_millis": 16,
    "execution_start": 1636711027446,
    "source_hash": "12ce88df",
    "tags": []
   },
   "outputs": [],
   "source": [
    "df_tennis['round'].unique()"
   ]
  },
  {
   "cell_type": "markdown",
   "id": "e43f0718",
   "metadata": {
    "cell_id": "00052-db68e46b-8729-42c4-beaf-03f42cc2005f",
    "deepnote_cell_type": "text-cell-h3",
    "is_collapsed": false,
    "tags": []
   },
   "source": [
    "### winner_id"
   ]
  },
  {
   "cell_type": "markdown",
   "id": "74681c61",
   "metadata": {
    "cell_id": "00053-2ec92852-d000-4254-83db-ba7672d92ab0",
    "deepnote_cell_type": "markdown",
    "tags": []
   },
   "source": [
    "It identifies the players inside a given tournament.\n",
    "\n",
    "Number of missing values = 82."
   ]
  },
  {
   "cell_type": "code",
   "execution_count": null,
   "id": "15cea6eb",
   "metadata": {
    "cell_id": "00054-70ad04da-87f9-457b-930d-819c12ec11ad",
    "deepnote_cell_type": "code",
    "deepnote_to_be_reexecuted": false,
    "execution_millis": 83,
    "execution_start": 1636711027472,
    "source_hash": "30107ec3",
    "tags": []
   },
   "outputs": [],
   "source": [
    "(df_tennis.groupby(['winner_name', 'tourney_id']).winner_id.agg('nunique') > 1).sum()"
   ]
  },
  {
   "cell_type": "markdown",
   "id": "465404ac",
   "metadata": {
    "cell_id": "00055-120d7d35-4337-48dd-9fc0-ef68657060ed",
    "deepnote_cell_type": "text-cell-h3",
    "is_collapsed": false,
    "tags": []
   },
   "source": [
    "### winner_entry"
   ]
  },
  {
   "cell_type": "markdown",
   "id": "5b268810",
   "metadata": {
    "cell_id": "00056-9d07e569-82be-412d-be8b-fbfe468bc569",
    "deepnote_cell_type": "markdown",
    "tags": []
   },
   "source": [
    "It's an acronym and it can have one of the following values:\n",
    "\n",
    "* '**PR**' = (**Protected Ranking**) Players injured for a minimum of six months can ask for a protected ranking, which is based on their average ranking during the first three months of their injury. The player can use their protected ranking to enter tournaments' main draws or qualifying competitions when coming back from injury.[9] It is also used in the WTA for players returning from pregnancy leave.\n",
    "* '**Q**' = (**Qualifier**) Player who reaches the tournament's main draw by competing in a pre-tournament qualifying competition instead of automatically qualified by virtue of their world ranking, being a wild card, or other exemption\n",
    "* '**WC**' = (**Wild Card**) Player allowed to play in a tournament, even if their rank is not adequate or they do not register in time. Typically a few places in the draw are reserved for wild cards, which may be for local players who do not gain direct acceptance or for players who are just outside the ranking required to gain direct acceptance. Wild cards may also be given to players whose ranking has dropped due to a long-term injury.\n",
    "* '**LL**' = (**Lucky Loser**) Player or team that gains acceptance into the main draw of a tournament when a main draw player or team withdraws\n",
    "* '**SE**' = (**Special Exempt**) Players who are unable to appear in a tournament's qualifying draw because they are still competing in the final rounds of a previous tournament can be awarded a spot in the main draw by special exempt.\n",
    "* '**Alt**' = (I think **Alternate**) Player or team that gains acceptance into the main draw of a tournament when a main draw player or team withdraws. Such a player may be a lucky loser.\n",
    "* '**ALT**' = I think the same as before\n",
    "* '**SR**' = (**Special Ranking**) Same as Protected Ranking (I think)\n",
    "* '**JE**' = (**Junior exempt**) High-ranking junior players can be awarded a spot in the draw of a tournament.\n",
    "* '**A**' = ?\n",
    "* '**ITF**' = High-ranking ITF players can be awarded a spot into ATP Challenger and ITF women's tournaments main draws based on their ITF ranking.\n",
    "* '**P**' = ?\n",
    "* '**I**' = ?\n",
    "* '**IR**' = ?\n",
    "* '**JR**' = (**Main Draw Junior Reserved**) These are players who have a Top 100 ITF Junior Ranking (also known as a Combined Ranking) and who were unable to be accepted into the Main Draw as a Direct Acceptance. Players that withdraw before the Freeze Deadline will be replaced by players on the Junior Reserved Alternates list.\n",
    "\n",
    "Number of missing values = 82."
   ]
  },
  {
   "cell_type": "code",
   "execution_count": null,
   "id": "79f0efb2",
   "metadata": {
    "cell_id": "00057-7537b418-6cdf-44ac-9765-b62e8c8847be",
    "deepnote_cell_type": "code",
    "deepnote_to_be_reexecuted": false,
    "execution_millis": 4,
    "execution_start": 1636711027608,
    "source_hash": "5c7c84a2",
    "tags": []
   },
   "outputs": [],
   "source": [
    "df_tennis.winner_entry.unique()"
   ]
  },
  {
   "cell_type": "code",
   "execution_count": null,
   "id": "5d21f3ce",
   "metadata": {
    "cell_id": "00058-70ecb835-4491-4799-9df7-2339f7ced27c",
    "deepnote_cell_type": "code",
    "deepnote_to_be_reexecuted": false,
    "execution_millis": 3,
    "execution_start": 1636711027609,
    "source_hash": "93487f5a",
    "tags": []
   },
   "outputs": [],
   "source": [
    "# Number of missing values\n",
    "df_tennis.winner_id.isna().sum()"
   ]
  },
  {
   "cell_type": "code",
   "execution_count": null,
   "id": "7b90a736",
   "metadata": {
    "cell_id": "00059-f730b208-8319-48b7-a9f9-27404a3868dc",
    "deepnote_cell_type": "code",
    "deepnote_to_be_reexecuted": false,
    "execution_millis": 1608,
    "execution_start": 1636711027610,
    "source_hash": "95471927",
    "tags": []
   },
   "outputs": [],
   "source": [
    "df_tennis.winner_entry.hist(bins = len(df_tennis.winner_entry.unique()))"
   ]
  },
  {
   "cell_type": "markdown",
   "id": "0481c814",
   "metadata": {
    "cell_id": "00060-9b04008c-c2a3-4f1e-bfb7-a4a101a22c47",
    "deepnote_cell_type": "text-cell-h3",
    "is_collapsed": false,
    "tags": []
   },
   "source": [
    "### winner_hand"
   ]
  },
  {
   "cell_type": "markdown",
   "id": "e8fc7461",
   "metadata": {
    "cell_id": "00061-40ae8603-0104-4d39-ae9d-e15da1e339b2",
    "deepnote_cell_type": "markdown",
    "tags": []
   },
   "source": [
    "It represents:\n",
    "\n",
    "*   R = right-handed\n",
    "*   L = left-handed\n",
    "*   U = unknown\n",
    "\n",
    "For ambidextrous players, this is their serving hand.\n",
    "\n",
    "Number of missing values = 60."
   ]
  },
  {
   "cell_type": "code",
   "execution_count": null,
   "id": "dfcca7fe",
   "metadata": {
    "cell_id": "00062-1f06efa9-0cfe-495f-a8c1-a56d8c824ea7",
    "deepnote_cell_type": "code",
    "deepnote_to_be_reexecuted": false,
    "execution_millis": 1588,
    "execution_start": 1636711029054,
    "source_hash": "bcacccd4",
    "tags": []
   },
   "outputs": [],
   "source": [
    "df_tennis.winner_hand.hist()"
   ]
  },
  {
   "cell_type": "code",
   "execution_count": null,
   "id": "1f11b80c",
   "metadata": {
    "cell_id": "00063-535af28a-ac12-4435-85d8-ac32d26b9025",
    "deepnote_cell_type": "code",
    "deepnote_to_be_reexecuted": false,
    "execution_millis": 1284640040,
    "execution_start": 1636711030660,
    "source_hash": "fa9844c1",
    "tags": []
   },
   "outputs": [],
   "source": [
    "# Number of missing values\n",
    "df_tennis.winner_hand.isna().sum()"
   ]
  },
  {
   "cell_type": "markdown",
   "id": "5ebca72a",
   "metadata": {
    "cell_id": "00063-e5024fa1-8851-46d2-af57-2d4642a3e50e",
    "deepnote_cell_type": "text-cell-h3",
    "is_collapsed": false,
    "tags": []
   },
   "source": [
    "### winner_ht"
   ]
  },
  {
   "cell_type": "markdown",
   "id": "03696b41",
   "metadata": {
    "cell_id": "00063-2930e9e4-9e38-42a6-82a5-bb8f9f12675f",
    "deepnote_cell_type": "markdown",
    "tags": []
   },
   "source": [
    "It represents height in cm of the winner.\n",
    "\n",
    "Number of missing values = 136581"
   ]
  },
  {
   "cell_type": "code",
   "execution_count": null,
   "id": "b7c201af",
   "metadata": {
    "cell_id": "00065-9d84acaf-6034-487c-90e1-1999f2661339",
    "deepnote_cell_type": "code",
    "deepnote_to_be_reexecuted": false,
    "execution_millis": 1293,
    "execution_start": 1636711030661,
    "source_hash": "3c7cbed4",
    "tags": []
   },
   "outputs": [],
   "source": [
    "df_tennis.winner_ht.hist()"
   ]
  },
  {
   "cell_type": "code",
   "execution_count": null,
   "id": "20cab56f",
   "metadata": {
    "cell_id": "00066-64145147-aad8-457d-8d93-e15da2b3731c",
    "deepnote_cell_type": "code",
    "deepnote_to_be_reexecuted": false,
    "execution_millis": 1284640253,
    "execution_start": 1636711031957,
    "source_hash": "aa25cb88",
    "tags": []
   },
   "outputs": [],
   "source": [
    "#number of missing values\n",
    "df_tennis.winner_ht.isna().sum()"
   ]
  },
  {
   "cell_type": "code",
   "execution_count": null,
   "id": "3b6047d1",
   "metadata": {
    "cell_id": "00067-85212303-d3fd-4231-a649-c6a921783b78",
    "deepnote_cell_type": "code",
    "deepnote_to_be_reexecuted": false,
    "execution_millis": 2022,
    "execution_start": 1636711031991,
    "source_hash": "9e58efb0",
    "tags": []
   },
   "outputs": [],
   "source": [
    "df_tennis.winner_ht.plot.box()"
   ]
  },
  {
   "cell_type": "markdown",
   "id": "eaa8ddda",
   "metadata": {
    "cell_id": "00069-d5dc5606-22b6-48cd-810e-8e4fc8b62c00",
    "deepnote_cell_type": "markdown",
    "tags": []
   },
   "source": [
    "**Spotting outliers**\n",
    "\n",
    "Several outliers with winner_ht = 2.0 and also other outliers with height < 146."
   ]
  },
  {
   "cell_type": "code",
   "execution_count": null,
   "id": "e196a35e",
   "metadata": {
    "cell_id": "00069-dadc3f7a-3315-48e1-ae0c-aaea0f5e0b30",
    "deepnote_cell_type": "code",
    "deepnote_to_be_reexecuted": false,
    "execution_millis": 20,
    "execution_start": 1636711034035,
    "source_hash": "46a27d31",
    "tags": []
   },
   "outputs": [],
   "source": [
    "df_tennis[df_tennis.winner_ht < df_tennis.winner_ht.quantile(0.0023) ].sort_values('winner_ht')"
   ]
  },
  {
   "cell_type": "code",
   "execution_count": null,
   "id": "d741fbb0",
   "metadata": {
    "cell_id": "00070-148540cf-4650-4bb3-ba08-19075299746d",
    "deepnote_cell_type": "code",
    "deepnote_to_be_reexecuted": false,
    "execution_millis": 0,
    "execution_start": 1636711034040,
    "source_hash": "bc907712",
    "tags": []
   },
   "outputs": [],
   "source": [
    "# adjusting wrong values\n",
    "df_tennis.loc[df_tennis.winner_name == 'kamilla rakhimova', 'winner_ht'] = 174\n",
    "df_tennis.loc[df_tennis.winner_name == 'ilija vucic', 'winner_ht'] = 188"
   ]
  },
  {
   "cell_type": "code",
   "execution_count": null,
   "id": "e2646c6a",
   "metadata": {
    "cell_id": "00070-c534b57e-5664-4847-a79c-9f1cb05355e0",
    "deepnote_cell_type": "code",
    "deepnote_to_be_reexecuted": false,
    "execution_millis": 1441,
    "execution_start": 1636711034042,
    "source_hash": "5a162f00",
    "tags": []
   },
   "outputs": [],
   "source": [
    "df_tennis[df_tennis.winner_ht > df_tennis.winner_ht.quantile(0.995) ].sort_values('winner_ht')"
   ]
  },
  {
   "cell_type": "markdown",
   "id": "eca32694",
   "metadata": {
    "cell_id": "00071-0faecbc7-2af1-48af-8bb4-0139e699f9a9",
    "deepnote_cell_type": "text-cell-h3",
    "is_collapsed": false,
    "tags": []
   },
   "source": [
    "### winner_ioc"
   ]
  },
  {
   "cell_type": "markdown",
   "id": "3ce0352b",
   "metadata": {
    "cell_id": "00072-eac1c698-7998-435c-a724-a65bba563d52",
    "deepnote_cell_type": "markdown",
    "tags": []
   },
   "source": [
    "It's a 3 character code representing the winner's country.\n",
    "\n",
    "Number of missing values = 44"
   ]
  },
  {
   "cell_type": "code",
   "execution_count": null,
   "id": "293977ac",
   "metadata": {
    "cell_id": "00073-ef72f5d0-229b-4b36-989c-8906a72f86c2",
    "deepnote_cell_type": "code",
    "deepnote_to_be_reexecuted": false,
    "execution_millis": 1220,
    "execution_start": 1636711034268,
    "source_hash": "2915808d",
    "tags": []
   },
   "outputs": [],
   "source": [
    "df_tennis.winner_ioc.unique()"
   ]
  },
  {
   "cell_type": "code",
   "execution_count": null,
   "id": "76884bde",
   "metadata": {
    "cell_id": "00074-c6711896-327d-4c7e-ba59-b108ddcc7855",
    "deepnote_cell_type": "code",
    "deepnote_to_be_reexecuted": false,
    "execution_millis": 1135,
    "execution_start": 1636711034353,
    "source_hash": "5a6b451c",
    "tags": []
   },
   "outputs": [],
   "source": [
    "# Number of missing values\n",
    "df_tennis.winner_ioc.isna().sum()"
   ]
  },
  {
   "cell_type": "code",
   "execution_count": null,
   "id": "93f6716d",
   "metadata": {
    "cell_id": "00075-61a30cba-bb0a-4526-9998-3ce00d0def2d",
    "deepnote_cell_type": "code",
    "deepnote_to_be_reexecuted": false,
    "execution_millis": 1136,
    "execution_start": 1636711034355,
    "source_hash": "62f292d5",
    "tags": []
   },
   "outputs": [],
   "source": [
    "filter = 600\n",
    "\n",
    "winner_ioc_count = df_tennis.winner_ioc.value_counts()\n",
    "winner_ioc_small_count = winner_ioc_count[winner_ioc_count.values < filter]\n",
    "winner_ioc_count = winner_ioc_count.drop(winner_ioc_count[winner_ioc_count.values<filter ].index)\n",
    "\n",
    "winner_ioc_count = winner_ioc_count.append(pd.Series({'others': winner_ioc_small_count.sum()}))\n",
    "\n",
    "# winner_ioc_count.plot(kind='pie', figsize = (20,20)) #hist(color='orange', ec='black', bins=124, figsize=(120, 50), rwidth = 0.5, xlabelsize=25)\n",
    "px.pie(winner_ioc_count).show()"
   ]
  },
  {
   "cell_type": "markdown",
   "id": "fe8c88b8",
   "metadata": {
    "cell_id": "00076-d4ab00ec-5168-47bb-9a06-8f87aee1723f",
    "deepnote_cell_type": "text-cell-h3",
    "is_collapsed": false,
    "tags": []
   },
   "source": [
    "### winner_age"
   ]
  },
  {
   "cell_type": "markdown",
   "id": "30d87db4",
   "metadata": {
    "cell_id": "00077-d7e4b25e-ec78-4308-ae29-f10cb559de43",
    "deepnote_cell_type": "markdown",
    "tags": []
   },
   "source": [
    "\n",
    "The age of the player, in years, depending on the date of the\n",
    "tournament.\n",
    "\n",
    "There are outliers.\n",
    "\n",
    "Number of missing values = 2868."
   ]
  },
  {
   "cell_type": "code",
   "execution_count": null,
   "id": "6cef9670",
   "metadata": {
    "cell_id": "00078-9d92ce86-5ee2-41dd-a5fd-2e9fd1506607",
    "deepnote_cell_type": "code",
    "deepnote_to_be_reexecuted": false,
    "execution_millis": 1655,
    "execution_start": 1636711034504,
    "source_hash": "3df469c1",
    "tags": []
   },
   "outputs": [],
   "source": [
    "df_tennis.winner_age.hist()"
   ]
  },
  {
   "cell_type": "code",
   "execution_count": null,
   "id": "35e7e7a3",
   "metadata": {
    "cell_id": "00079-07ce3e9d-bb17-4d60-a09e-85f0cd3972d1",
    "deepnote_cell_type": "code",
    "deepnote_to_be_reexecuted": false,
    "execution_millis": 1962,
    "execution_start": 1636711036090,
    "source_hash": "6e3d6554",
    "tags": []
   },
   "outputs": [],
   "source": [
    "df_tennis.winner_age.plot.box()"
   ]
  },
  {
   "cell_type": "code",
   "execution_count": null,
   "id": "ea3a8c98",
   "metadata": {
    "cell_id": "00080-af1bd63f-db0b-4855-96bd-43c62905fce3",
    "deepnote_cell_type": "code",
    "deepnote_to_be_reexecuted": false,
    "execution_millis": 1284639511,
    "execution_start": 1636711037984,
    "source_hash": "4a17e7f0",
    "tags": []
   },
   "outputs": [],
   "source": [
    "# Number of missing values\n",
    "df_tennis.winner_age.isna().sum()"
   ]
  },
  {
   "cell_type": "markdown",
   "id": "442d21c4",
   "metadata": {
    "cell_id": "00081-9405e53f-7571-4f37-b262-a46d8b426a5c",
    "deepnote_cell_type": "markdown",
    "tags": []
   },
   "source": [
    "**Spotting outliers**\n",
    "\n",
    "2 outliers which show players whith 95 years old."
   ]
  },
  {
   "cell_type": "code",
   "execution_count": null,
   "id": "a20f879c",
   "metadata": {
    "cell_id": "00082-cecad575-9d9c-443f-8ecc-fbba08068676",
    "deepnote_cell_type": "code",
    "deepnote_to_be_reexecuted": false,
    "execution_millis": 334,
    "execution_start": 1636711037985,
    "source_hash": "2113bfb9",
    "tags": []
   },
   "outputs": [],
   "source": [
    "df_tennis[df_tennis.winner_age < df_tennis.winner_age.quantile(0.00001)].sort_values('winner_age')"
   ]
  },
  {
   "cell_type": "code",
   "execution_count": null,
   "id": "7d88b3a9",
   "metadata": {
    "cell_id": "00083-469aa3f5-3462-4c30-b8ba-9722db021de6",
    "deepnote_cell_type": "code",
    "deepnote_to_be_reexecuted": false,
    "execution_millis": 256,
    "execution_start": 1636711038064,
    "source_hash": "6c6ba0d6",
    "tags": []
   },
   "outputs": [],
   "source": [
    "df_tennis[df_tennis.winner_age > df_tennis.winner_age.quantile(0.99997)].sort_values('winner_age')"
   ]
  },
  {
   "cell_type": "code",
   "execution_count": null,
   "id": "c86e34b2",
   "metadata": {
    "cell_id": "00085-e463ccfd-c9c7-4997-8522-6719d1f6b154",
    "deepnote_cell_type": "code",
    "deepnote_to_be_reexecuted": false,
    "execution_millis": 24,
    "execution_start": 1636711038210,
    "source_hash": "aa95c3fd",
    "tags": []
   },
   "outputs": [],
   "source": [
    "# adjusting wrong values\n",
    "df_tennis.loc[0,'winner_age'] = df_tennis.loc[df_tennis.winner_name == 'kei nishikori'].winner_age.mean()\n",
    "df_tennis.loc[322,'winner_age'] = df_tennis.loc[df_tennis.winner_name == 'daniil medvedev'].winner_age.mean()"
   ]
  },
  {
   "cell_type": "markdown",
   "id": "1c1f10e0",
   "metadata": {
    "cell_id": "00084-2644a8e5-581f-45bf-a302-424a42098e2d",
    "deepnote_cell_type": "text-cell-h3",
    "is_collapsed": false,
    "tags": []
   },
   "source": [
    "### loser_id"
   ]
  },
  {
   "cell_type": "markdown",
   "id": "38199e5f",
   "metadata": {
    "cell_id": "00085-2674171b-8af7-492c-a958-11c768de4dbc",
    "deepnote_cell_type": "markdown",
    "tags": []
   },
   "source": [
    "Number of missing values = 41"
   ]
  },
  {
   "cell_type": "code",
   "execution_count": null,
   "id": "ab11a6d3",
   "metadata": {
    "cell_id": "00086-0a4066b1-8902-45d0-a7c5-55574c153bf5",
    "deepnote_cell_type": "code",
    "deepnote_to_be_reexecuted": false,
    "execution_millis": 75,
    "execution_start": 1636711038246,
    "source_hash": "c6c5ece3",
    "tags": []
   },
   "outputs": [],
   "source": [
    "# Number of missing values\n",
    "df_tennis.loser_id.isna().sum()"
   ]
  },
  {
   "cell_type": "markdown",
   "id": "7b528be5",
   "metadata": {
    "cell_id": "00087-fcf622ec-bffc-4f9e-bef8-5d25ff030303",
    "deepnote_cell_type": "text-cell-h3",
    "is_collapsed": false,
    "tags": []
   },
   "source": [
    "### loser_entry"
   ]
  },
  {
   "cell_type": "markdown",
   "id": "07499af9",
   "metadata": {
    "cell_id": "00088-8fc9fe30-b08e-49f6-8acf-6e2e01279a81",
    "deepnote_cell_type": "markdown",
    "tags": []
   },
   "source": [
    "Number of missing values = 141785"
   ]
  },
  {
   "cell_type": "code",
   "execution_count": null,
   "id": "f239443c",
   "metadata": {
    "cell_id": "00089-ecdd15ba-9832-4547-9e3c-e78fdeb114a0",
    "deepnote_cell_type": "code",
    "deepnote_to_be_reexecuted": false,
    "execution_millis": 72,
    "execution_start": 1636711038253,
    "source_hash": "83e1427f",
    "tags": []
   },
   "outputs": [],
   "source": [
    "df_tennis.loser_entry.unique()"
   ]
  },
  {
   "cell_type": "code",
   "execution_count": null,
   "id": "b2a1d7c3",
   "metadata": {
    "cell_id": "00090-8bc53a6d-9cd8-4898-82b7-c34efc7e5427",
    "deepnote_cell_type": "code",
    "deepnote_to_be_reexecuted": false,
    "execution_millis": 45,
    "execution_start": 1636711038280,
    "source_hash": "a9b8f5dc",
    "tags": []
   },
   "outputs": [],
   "source": [
    "# Number of missing values\n",
    "df_tennis.loser_entry.isna().sum()"
   ]
  },
  {
   "cell_type": "markdown",
   "id": "502e169e",
   "metadata": {
    "cell_id": "00091-dab52ee0-5880-4e54-ae9b-2153eecc1f5f",
    "deepnote_cell_type": "text-cell-h3",
    "is_collapsed": false,
    "tags": []
   },
   "source": [
    "### loser_hand"
   ]
  },
  {
   "cell_type": "markdown",
   "id": "8e9e8674",
   "metadata": {
    "cell_id": "00092-23b41b2b-ca18-4e07-9073-aab183dd9aa7",
    "deepnote_cell_type": "markdown",
    "tags": []
   },
   "source": [
    "It represents:\n",
    "* R = right-handed\n",
    "* L = left-handed\n",
    "* U = unknown\n",
    "\n",
    "For ambidextrous players, this is their serving hand.\n",
    "\n",
    "Number of missing values = 111."
   ]
  },
  {
   "cell_type": "code",
   "execution_count": null,
   "id": "343e0ba9",
   "metadata": {
    "cell_id": "00093-46f05631-a291-4225-9375-99b4b22d8599",
    "deepnote_cell_type": "code",
    "deepnote_to_be_reexecuted": false,
    "execution_millis": 1895,
    "execution_start": 1636711038332,
    "source_hash": "f8800f2e",
    "tags": []
   },
   "outputs": [],
   "source": [
    "df_tennis.loser_hand.hist()"
   ]
  },
  {
   "cell_type": "code",
   "execution_count": null,
   "id": "751c5eb5",
   "metadata": {
    "cell_id": "00094-bee6ff50-3c89-4a32-9814-94700197f258",
    "deepnote_cell_type": "code",
    "deepnote_to_be_reexecuted": false,
    "execution_millis": 1284639598,
    "execution_start": 1636711040193,
    "source_hash": "95db0216",
    "tags": []
   },
   "outputs": [],
   "source": [
    "# Number of missing values\n",
    "df_tennis.loser_hand.isna().sum()"
   ]
  },
  {
   "cell_type": "markdown",
   "id": "233fd026",
   "metadata": {
    "cell_id": "00095-1929a8b6-a3d6-4fb4-bd43-cd9f45a6fae7",
    "deepnote_cell_type": "text-cell-h3",
    "is_collapsed": false,
    "tags": []
   },
   "source": [
    "### loser_ht"
   ]
  },
  {
   "cell_type": "markdown",
   "id": "fde563d2",
   "metadata": {
    "cell_id": "00096-193379fe-ea44-40d2-ac4b-a0f961713330",
    "deepnote_cell_type": "markdown",
    "tags": []
   },
   "source": [
    "It represents height in cm of the loser.\n",
    "\n",
    "There are outliers.\n",
    "\n",
    "Number of missing values = 147555"
   ]
  },
  {
   "cell_type": "code",
   "execution_count": null,
   "id": "93972355",
   "metadata": {
    "cell_id": "00097-250d8372-d0e7-414a-a741-8efff8d3dacd",
    "deepnote_cell_type": "code",
    "deepnote_to_be_reexecuted": false,
    "execution_millis": 603,
    "execution_start": 1636711040194,
    "source_hash": "24f64f64",
    "tags": []
   },
   "outputs": [],
   "source": [
    "df_tennis.loser_ht.hist()"
   ]
  },
  {
   "cell_type": "code",
   "execution_count": null,
   "id": "443e88af",
   "metadata": {
    "cell_id": "00098-0d68da8f-0ef5-40dc-b283-7d0cfd0c7f40",
    "deepnote_cell_type": "code",
    "deepnote_to_be_reexecuted": false,
    "execution_millis": 1284638730,
    "execution_start": 1636711040802,
    "source_hash": "a4076029",
    "tags": []
   },
   "outputs": [],
   "source": [
    "#number of missing values\n",
    "df_tennis.loser_ht.isna().sum()"
   ]
  },
  {
   "cell_type": "code",
   "execution_count": null,
   "id": "c5fa2ec8",
   "metadata": {
    "cell_id": "00099-fca479a2-b93b-41e0-9a91-d7459ffeeb33",
    "deepnote_cell_type": "code",
    "deepnote_to_be_reexecuted": false,
    "execution_millis": 1708,
    "execution_start": 1636711040806,
    "source_hash": "d70e2d86",
    "tags": []
   },
   "outputs": [],
   "source": [
    "df_tennis.loser_ht.plot.box()"
   ]
  },
  {
   "cell_type": "markdown",
   "id": "b4dede02",
   "metadata": {
    "cell_id": "00100-6cf2554a-1eeb-47a1-9ee8-d4a00a9637a5",
    "deepnote_cell_type": "markdown",
    "tags": []
   },
   "source": [
    "**Spotting outliers**\n",
    "\n",
    "Several outliers with winner_ht = 2.0."
   ]
  },
  {
   "cell_type": "code",
   "execution_count": null,
   "id": "9ad1b3bf",
   "metadata": {
    "cell_id": "00101-15ebd105-a7ac-49d3-b63f-834989310801",
    "deepnote_cell_type": "code",
    "deepnote_to_be_reexecuted": false,
    "execution_millis": 390,
    "execution_start": 1636711042479,
    "source_hash": "d4c59a44",
    "tags": []
   },
   "outputs": [],
   "source": [
    "df_tennis[df_tennis.loser_ht < df_tennis.loser_ht.quantile(0.0012)].sort_values('loser_ht')"
   ]
  },
  {
   "cell_type": "code",
   "execution_count": null,
   "id": "67064ee6",
   "metadata": {
    "cell_id": "00104-6001093e-28d5-4fb7-baea-6e6cc7080915",
    "deepnote_cell_type": "code",
    "deepnote_to_be_reexecuted": false,
    "execution_millis": 35,
    "execution_start": 1636711042688,
    "source_hash": "1306fe99",
    "tags": []
   },
   "outputs": [],
   "source": [
    "# adjusting wrong values\n",
    "df_tennis.loc[df_tennis.loser_name == 'kamilla rakhimova', 'loser_ht'] = 174\n",
    "df_tennis.loc[df_tennis.loser_name == 'ilija vucic', 'loser_ht'] = 188"
   ]
  },
  {
   "cell_type": "code",
   "execution_count": null,
   "id": "63f0b979",
   "metadata": {
    "cell_id": "00102-9ad4416b-4d11-49f5-b619-7f2a2a61f210",
    "deepnote_cell_type": "code",
    "deepnote_to_be_reexecuted": false,
    "execution_millis": 246,
    "execution_start": 1636711042736,
    "source_hash": "861a3e10",
    "tags": []
   },
   "outputs": [],
   "source": [
    "df_tennis[df_tennis.loser_ht > df_tennis.loser_ht.quantile(0.99)].sort_values('loser_ht')"
   ]
  },
  {
   "cell_type": "markdown",
   "id": "3ea16427",
   "metadata": {
    "cell_id": "00103-674229ab-db19-4930-bbe3-bc744294055e",
    "deepnote_cell_type": "text-cell-h3",
    "is_collapsed": false,
    "tags": []
   },
   "source": [
    "### loser_ioc"
   ]
  },
  {
   "cell_type": "markdown",
   "id": "45e65526",
   "metadata": {
    "cell_id": "00104-2341f030-cd9a-43c2-887d-1dac4bce352d",
    "deepnote_cell_type": "markdown",
    "tags": []
   },
   "source": [
    "It's a 3 character code representing the loser's country.\n",
    "\n",
    "Number of missing values = 41"
   ]
  },
  {
   "cell_type": "code",
   "execution_count": null,
   "id": "1330e99a",
   "metadata": {
    "cell_id": "00105-f8796092-aa85-4b56-9fd6-f4f6c8073994",
    "deepnote_cell_type": "code",
    "deepnote_to_be_reexecuted": false,
    "execution_millis": 20,
    "execution_start": 1636711042982,
    "source_hash": "f0eec7ee",
    "tags": []
   },
   "outputs": [],
   "source": [
    "df_tennis.loser_ioc.unique()"
   ]
  },
  {
   "cell_type": "code",
   "execution_count": null,
   "id": "b1dbe2ef",
   "metadata": {
    "cell_id": "00106-ce01421e-1687-4da9-ba62-a1dd0823647f",
    "deepnote_cell_type": "code",
    "deepnote_to_be_reexecuted": false,
    "execution_millis": 18,
    "execution_start": 1636711043003,
    "source_hash": "a338e090",
    "tags": []
   },
   "outputs": [],
   "source": [
    "# Number of missing values\n",
    "df_tennis.loser_ioc.isna().sum()"
   ]
  },
  {
   "cell_type": "markdown",
   "id": "de025892",
   "metadata": {
    "cell_id": "00107-f9f20518-de89-4e70-8064-c87f5803a64c",
    "deepnote_cell_type": "text-cell-h3",
    "is_collapsed": false,
    "tags": []
   },
   "source": [
    "### loser_age"
   ]
  },
  {
   "cell_type": "markdown",
   "id": "aba744f2",
   "metadata": {
    "cell_id": "00108-fe559921-4680-4bc4-8769-38f9c04af94d",
    "deepnote_cell_type": "markdown",
    "tags": []
   },
   "source": [
    "The age of the player, in years, depending on the date of the\n",
    "tournament.\n",
    "\n",
    "There are no outliers.\n",
    "\n",
    "Number of missing values = 6551"
   ]
  },
  {
   "cell_type": "code",
   "execution_count": null,
   "id": "89978fec",
   "metadata": {
    "cell_id": "00109-5a7795ae-87ae-4f84-b378-c431af09fb59",
    "deepnote_cell_type": "code",
    "deepnote_to_be_reexecuted": false,
    "execution_millis": 1,
    "execution_start": 1636711043026,
    "source_hash": "d2d1933b",
    "tags": []
   },
   "outputs": [],
   "source": [
    "# df_tennis.loser_age.hist()"
   ]
  },
  {
   "cell_type": "code",
   "execution_count": null,
   "id": "9e06cfe1",
   "metadata": {
    "cell_id": "00110-218ddaf7-e73a-41bc-80ec-f17785d6f3ee",
    "deepnote_cell_type": "code",
    "deepnote_to_be_reexecuted": false,
    "execution_millis": 2125,
    "execution_start": 1636711043071,
    "source_hash": "f5cd60ab",
    "tags": []
   },
   "outputs": [],
   "source": [
    "df_tennis.loser_age.plot.box()"
   ]
  },
  {
   "cell_type": "code",
   "execution_count": null,
   "id": "3d858783",
   "metadata": {
    "cell_id": "00111-3f3d9415-5464-4acc-b450-e9fdae0f8ec7",
    "deepnote_cell_type": "code",
    "deepnote_to_be_reexecuted": false,
    "execution_millis": 1284638060,
    "execution_start": 1636711044998,
    "source_hash": "508c778d",
    "tags": []
   },
   "outputs": [],
   "source": [
    "# Number of missing values\n",
    "df_tennis.loser_age.isna().sum()"
   ]
  },
  {
   "cell_type": "markdown",
   "id": "264675c6",
   "metadata": {
    "cell_id": "00112-b59e9483-879b-4dea-97dc-0a6aa49f8a61",
    "deepnote_cell_type": "markdown",
    "tags": []
   },
   "source": [
    "**Spotting outliers**\n",
    "\n",
    "No outliers, there are data regarding Gail Falkenberg is a real player who is 74 years old."
   ]
  },
  {
   "cell_type": "code",
   "execution_count": null,
   "id": "1f489f3f",
   "metadata": {
    "cell_id": "00113-8cf63538-9f53-4039-bf8a-822e83c914eb",
    "deepnote_cell_type": "code",
    "deepnote_to_be_reexecuted": false,
    "execution_millis": 206,
    "execution_start": 1636711044999,
    "source_hash": "70003fa4",
    "tags": []
   },
   "outputs": [],
   "source": [
    "df_tennis[df_tennis.loser_age < df_tennis.loser_age.quantile(0.00002)].sort_values('winner_age')"
   ]
  },
  {
   "cell_type": "code",
   "execution_count": null,
   "id": "4edb0cf0",
   "metadata": {
    "cell_id": "00114-fb5da44b-d62f-405a-a4d9-fdedb8431d56",
    "deepnote_cell_type": "code",
    "deepnote_to_be_reexecuted": false,
    "execution_millis": 232,
    "execution_start": 1636711045015,
    "source_hash": "b26e9cb0",
    "tags": []
   },
   "outputs": [],
   "source": [
    "df_tennis[df_tennis.loser_age > df_tennis.loser_age.quantile(0.99997)].sort_values('loser_age')"
   ]
  },
  {
   "cell_type": "markdown",
   "id": "7fb2d6eb",
   "metadata": {
    "cell_id": "00128-abb69d69-4b53-4c4f-a6cf-5d150e3fd93f",
    "deepnote_cell_type": "markdown",
    "tags": []
   },
   "source": [
    "## Correlation analysis"
   ]
  },
  {
   "cell_type": "code",
   "execution_count": null,
   "id": "b831181d",
   "metadata": {
    "cell_id": "00128-85bb3629-3ad4-43fc-aa87-73baa7c0210d",
    "deepnote_cell_type": "code",
    "deepnote_to_be_reexecuted": false,
    "execution_millis": 622,
    "execution_start": 1636711054196,
    "source_hash": "9c198b6a",
    "tags": []
   },
   "outputs": [],
   "source": [
    "def get_redundant_pairs(df):\n",
    "    '''Get diagonal and lower triangular pairs of correlation matrix'''\n",
    "    pairs_to_drop = set()\n",
    "    cols = df.columns\n",
    "    for i in range(0, df.shape[1]):\n",
    "        for j in range(0, i+1):\n",
    "            pairs_to_drop.add((cols[i], cols[j]))\n",
    "    return pairs_to_drop\n",
    "\n",
    "corr_threshold = 0.7\n",
    "correlation = df_tennis.corr(method=\"pearson\") #.abs()\n",
    "correlation = correlation.where(np.tril(np.ones(correlation.shape)).astype(bool)) # remove upper triangle\n",
    "\n",
    "px.imshow(correlation[(correlation>=corr_threshold) | (correlation<=-corr_threshold)], labels=dict(color=\"Correlation\"), color_continuous_scale=px.colors.diverging.RdBu, zmin=-1, zmax=1, width=1000, height=1000).show()\n",
    "\n",
    "correlation = correlation.unstack().drop(labels=get_redundant_pairs(correlation)).sort_values(ascending=False).drop_duplicates()\n",
    "print(f\"These are {len(correlation[(correlation>=corr_threshold) | (correlation<=-corr_threshold)])} pairs whose correlation is bigger/small than ±{corr_threshold*100}%:\")\n",
    "correlation[(correlation>=corr_threshold) | (correlation<=-corr_threshold)]"
   ]
  },
  {
   "cell_type": "markdown",
   "id": "76d708e4",
   "metadata": {
    "cell_id": "00136-16bb615d-e382-4304-a975-85b3ee5aad0b",
    "deepnote_cell_type": "markdown",
    "tags": []
   },
   "source": [
    "Save dataset"
   ]
  },
  {
   "cell_type": "code",
   "execution_count": null,
   "id": "d8c3ef67",
   "metadata": {
    "cell_id": "00136-28eb27c9-a21f-4209-97a9-a399726d6c4a",
    "deepnote_cell_type": "code",
    "tags": []
   },
   "outputs": [],
   "source": [
    "df_tennis.to_csv(\"../datasets/tennis_matches_cleaned.csv\")"
   ]
  }
 ],
 "metadata": {
  "deepnote": {},
  "deepnote_execution_queue": [],
  "deepnote_notebook_id": "0da081f4-d585-4e33-9103-578124ca2117",
  "kernelspec": {
   "display_name": "Python 3 (ipykernel)",
   "language": "python",
   "name": "python3"
  },
  "language_info": {
   "codemirror_mode": {
    "name": "ipython",
    "version": 3
   },
   "file_extension": ".py",
   "mimetype": "text/x-python",
   "name": "python",
   "nbconvert_exporter": "python",
   "pygments_lexer": "ipython3",
   "version": "3.9.7"
  }
 },
 "nbformat": 4,
 "nbformat_minor": 5
}
