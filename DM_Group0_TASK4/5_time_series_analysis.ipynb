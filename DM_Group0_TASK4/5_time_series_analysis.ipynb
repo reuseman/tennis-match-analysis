{
 "cells": [
  {
   "cell_type": "markdown",
   "metadata": {},
   "source": [
    "# Time series analysis"
   ]
  },
  {
   "cell_type": "code",
   "execution_count": null,
   "metadata": {},
   "outputs": [],
   "source": [
    "import pandas as pd\n",
    "\n",
    "# Transformation\n",
    "from sklearn.preprocessing import MinMaxScaler, StandardScaler\n",
    "\n",
    "# KMEANS\n",
    "from sklearn.cluster import KMeans\n",
    "from yellowbrick.cluster.elbow import KElbowVisualizer \n",
    "from yellowbrick.cluster import silhouette_visualizer \n",
    "\n",
    "# tslearn\n",
    "from tslearn.utils import to_time_series, to_time_series_dataset\n",
    "from tslearn.clustering import TimeSeriesKMeans\n",
    "\n",
    "# Visualization\n",
    "import plotly.express as px\n",
    "import plotly.io as pio\n",
    "pd.options.plotting.backend = \"plotly\"\n",
    "pio.templates.default = \"seaborn\"\n",
    "import matplotlib.pyplot as plt\n",
    "# geo (visualization)\n",
    "\n",
    "pd.set_option('display.max_columns', None)"
   ]
  },
  {
   "cell_type": "code",
   "execution_count": null,
   "metadata": {},
   "outputs": [],
   "source": [
    "# Read datasets\n",
    "df_temperature = pd.read_csv(\"../datasets/CityGlobalTemperature2000-2009.csv\", index_col=0) # index_col takes the index from the csv rather than creating it automatically (i.e. unnamed col is removed)"
   ]
  },
  {
   "cell_type": "code",
   "execution_count": null,
   "metadata": {},
   "outputs": [],
   "source": [
    "df_temperature.head()"
   ]
  },
  {
   "cell_type": "markdown",
   "metadata": {},
   "source": [
    "## Data Anlaysis"
   ]
  },
  {
   "cell_type": "markdown",
   "metadata": {},
   "source": [
    "Null values and Type analysis"
   ]
  },
  {
   "cell_type": "code",
   "execution_count": null,
   "metadata": {},
   "outputs": [],
   "source": [
    "df_temperature.info()"
   ]
  },
  {
   "cell_type": "markdown",
   "metadata": {},
   "source": [
    "I verify that each city has the same Country, Latitude and Longitude in all its records."
   ]
  },
  {
   "cell_type": "code",
   "execution_count": null,
   "metadata": {},
   "outputs": [],
   "source": [
    "something_different = False\n",
    "\n",
    "for city in df_temperature.City.unique():\n",
    "    query = df_temperature['City'] == city\n",
    "\n",
    "    if not df_temperature[query].loc[:, 'Country'].eq(df_temperature[query].loc[:, 'Country'].iloc[0]).all():\n",
    "        something_different = True\n",
    "        print(city + ' has different Country')\n",
    "    if not df_temperature[query].loc[:, 'Latitude'].eq(df_temperature[query].loc[:, 'Latitude'].iloc[0]).all():\n",
    "        something_different = True\n",
    "        print(city + ' has different Latitude')\n",
    "    if not df_temperature[query].loc[:, 'Longitude'].eq(df_temperature[query].loc[:, 'Longitude'].iloc[0]).all():\n",
    "        something_different = True\n",
    "        print(city + ' has different Longitude')\n",
    "\n",
    "if not something_different:\n",
    "    print('Each city has the same Country, Latitude and Longitude')"
   ]
  },
  {
   "cell_type": "markdown",
   "metadata": {},
   "source": [
    "Studying the uncertanty related to average temperature for each city"
   ]
  },
  {
   "cell_type": "code",
   "execution_count": null,
   "metadata": {},
   "outputs": [],
   "source": [
    "df_temperature.sort_values(by='AverageTemperatureUncertainty')"
   ]
  },
  {
   "cell_type": "markdown",
   "metadata": {},
   "source": [
    "Defining a new dataframe df_city"
   ]
  },
  {
   "cell_type": "code",
   "execution_count": null,
   "metadata": {},
   "outputs": [],
   "source": [
    "df_city = df_temperature.groupby('City').agg('mean')\n",
    "df_city = df_city.join(df_temperature.groupby('City').Country.first())\n",
    "df_city = df_city.join(df_temperature.groupby('City').Latitude.first())\n",
    "df_city = df_city.join(df_temperature.groupby('City').Longitude.first())\n",
    "\n",
    "px.scatter_3d(df_city, x = 'Longitude', y='Latitude', z='AverageTemperatureUncertainty', color='Country')"
   ]
  },
  {
   "cell_type": "markdown",
   "metadata": {},
   "source": [
    "Here we plot the average temperature of a City across time to appreciate the cyclic behaviour"
   ]
  },
  {
   "cell_type": "code",
   "execution_count": null,
   "metadata": {},
   "outputs": [],
   "source": [
    "df_example = df_temperature[df_temperature['City'] == 'Lahore']\n",
    "df_example = df_example.set_index('City')\n",
    "\n",
    "fig = px.line(df_example, x='time', y=\"AverageTemperature\")\n",
    "fig.show()"
   ]
  },
  {
   "cell_type": "markdown",
   "metadata": {},
   "source": [
    "Here we plot the average temperature uncertanty of a City across time to look for pattern.\n",
    "\n",
    "Just by looking to the plot we can't find any."
   ]
  },
  {
   "cell_type": "code",
   "execution_count": null,
   "metadata": {},
   "outputs": [],
   "source": [
    "df_example = df_temperature[df_temperature['City'] == 'Nagoya']\n",
    "df_example = df_example.set_index('City')\n",
    "\n",
    "fig = px.line(df_example, x='time', y=\"AverageTemperatureUncertainty\")\n",
    "fig.show()"
   ]
  },
  {
   "cell_type": "markdown",
   "metadata": {},
   "source": [
    "## Data Transformation and Feature Engegneering"
   ]
  },
  {
   "cell_type": "markdown",
   "metadata": {},
   "source": [
    "Creating 12 new attributes related to the average temperature that occured in each month across all the years.\n",
    "\n",
    "Also created 12 new attributes related to the average temperature uncertanty that occured in each month across all the years."
   ]
  },
  {
   "cell_type": "code",
   "execution_count": null,
   "metadata": {},
   "outputs": [],
   "source": [
    "df_temperature['year'] = pd.DatetimeIndex(df_temperature['time']).year\n",
    "df_temperature['month'] = pd.DatetimeIndex(df_temperature['time']).month\n",
    "\n",
    "df_moths_average_temp = df_temperature.set_index('City').pivot_table('AverageTemperature', 'City', 'month').rename_axis(None, axis=1)#.reset_index(drop=True)\n",
    "df_moths_average_temp.rename(columns={1:'1_avg', 2:'2_avg',3:'3_avg', 4:'4_avg', 5:'5_avg', 6:'6_avg', 7:'7_avg', 8:'8_avg',9:'9_avg', 10:'10_avg',11:'11_avg', 12:'12_avg',}, inplace=True)\n",
    "\n",
    "df_moths_average_temp_var = df_temperature.set_index('City').pivot_table('AverageTemperatureUncertainty', 'City', 'month').rename_axis(None, axis=1)#.reset_index(drop=True)\n",
    "df_moths_average_temp_var.rename(columns={1:'1_var', 2:'2_var',3:'3_var', 4:'4_var', 5:'5_var', 6:'6_var', 7:'7_var', 8:'8_var',9:'9_var', 10:'10_var',11:'11_var', 12:'12_var',}, inplace=True)\n",
    "\n",
    "df_city = df_city.join(df_moths_average_temp, on='City')\n",
    "df_city = df_city.join(df_moths_average_temp_var, on='City')\n",
    "df_city"
   ]
  },
  {
   "cell_type": "markdown",
   "metadata": {},
   "source": [
    "Transforming latitude and longitude from String to int"
   ]
  },
  {
   "cell_type": "code",
   "execution_count": null,
   "metadata": {},
   "outputs": [],
   "source": [
    "# conversion functions\n",
    "def latitude_to_float(latitude):\n",
    "\n",
    "    if(latitude[-1] == 'N'):\n",
    "        return float(latitude[0:-1])\n",
    "    elif(latitude[-1] == 'S'):\n",
    "        return - float(latitude[0:-1])\n",
    "    else:\n",
    "        print('Conversion error: ' + latitude)\n",
    "\n",
    "def longitude_to_float(longitude):\n",
    "\n",
    "    if(longitude[-1] == 'W'):\n",
    "        return - float(longitude[0:-1])\n",
    "    elif(longitude[-1] == 'E'):\n",
    "        return float(longitude[0:-1])\n",
    "    else:\n",
    "        print('Conversion error: ' + longitude)\n",
    "\n",
    "\n",
    "# applying conversions\n",
    "df_city.Latitude = df_city.Latitude.apply(lambda x: latitude_to_float(x))\n",
    "df_city.Longitude = df_city.Longitude.apply(lambda x: longitude_to_float(x))\n",
    "df_city"
   ]
  },
  {
   "cell_type": "code",
   "execution_count": null,
   "metadata": {},
   "outputs": [],
   "source": [
    "df_city.info()"
   ]
  },
  {
   "cell_type": "markdown",
   "metadata": {},
   "source": [
    "## Cluster"
   ]
  },
  {
   "cell_type": "markdown",
   "metadata": {},
   "source": [
    "Below you can set boolean values to true or false depending if you want to set the clustering alghortithm on average temperature, temperature variance or both.\n",
    "\n",
    "After trying all the different combinations the most meanigfull results were obatining by clustering with respect to the average temperature alogn the months."
   ]
  },
  {
   "cell_type": "code",
   "execution_count": null,
   "metadata": {},
   "outputs": [],
   "source": [
    "cluster_avg = True\n",
    "cluster_var = False\n",
    "cluster_var_mean = False"
   ]
  },
  {
   "cell_type": "markdown",
   "metadata": {},
   "source": [
    "Preparing the dataset"
   ]
  },
  {
   "cell_type": "code",
   "execution_count": null,
   "metadata": {},
   "outputs": [],
   "source": [
    "features_avg = ['1_avg', '2_avg', '3_avg', '4_avg', '5_avg', '6_avg', '7_avg', '8_avg', '9_avg', '10_avg', '11_avg', '12_avg']\n",
    "features_var = ['1_var', '2_var','3_var', '4_var', '5_var', '6_var', '7_var', '8_var','9_var', '10_var', '11_var', '12_var']\n",
    "features = []\n",
    "\n",
    "if cluster_avg == True:\n",
    "    features = features  + features_avg\n",
    "if cluster_var == True:\n",
    "    features =  features + features_var\n",
    "if cluster_var_mean == True:\n",
    "    features = features + ['AverageTemperatureUncertainty']\n",
    "\n",
    "df_data = df_city[features].reset_index(drop=True)\n",
    "\n",
    "#df_data = pd.DataFrame(MinMaxScaler().fit_transform(df_data), columns=df_data.columns)\n",
    "df_data"
   ]
  },
  {
   "cell_type": "markdown",
   "metadata": {},
   "source": [
    "Trying varoius k for k-means and comparing metrics:"
   ]
  },
  {
   "cell_type": "code",
   "execution_count": null,
   "metadata": {},
   "outputs": [],
   "source": [
    "model = KMeans(n_init=10, max_iter=100, init=\"k-means++\")\n",
    "sse_visualizer = KElbowVisualizer(model, k=(2,30), timings=False)\n",
    "sse_visualizer.fit(df_data)\n",
    "sse_visualizer.show()\n",
    "\n",
    "sil_visualizer = KElbowVisualizer(model, k=(2,30), timings=False, metric=\"silhouette\")\n",
    "sil_visualizer.fit(df_data)\n",
    "sil_visualizer.show()"
   ]
  },
  {
   "cell_type": "code",
   "execution_count": null,
   "metadata": {},
   "outputs": [],
   "source": [
    "optimal_k = 7#sse_visualizer.elbow_value_\n",
    "kmeans = KMeans(n_clusters=optimal_k, n_init=10, max_iter=100, init=\"k-means++\")\n",
    "kmeans.fit(df_data)\n",
    "\n",
    "df_city[\"cluster_kmeans\"] = kmeans.labels_.astype(str)\n",
    "\n",
    "x = silhouette_visualizer(KMeans(optimal_k, random_state=42), df_data)\n",
    "print(\"The silhoutte score is: \" + str(x.silhouette_score_))"
   ]
  },
  {
   "cell_type": "markdown",
   "metadata": {},
   "source": [
    "### Cluster Validation"
   ]
  },
  {
   "cell_type": "markdown",
   "metadata": {},
   "source": [
    "#### Centroid visualization"
   ]
  },
  {
   "cell_type": "code",
   "execution_count": null,
   "metadata": {},
   "outputs": [],
   "source": [
    "if cluster_avg == True and cluster_var == False:\n",
    "    plt.figure(figsize=(15, 4))\n",
    "    for i in range(0, len(kmeans.cluster_centers_)):\n",
    "        plt.plot(kmeans.cluster_centers_[i][0:12], marker='o', label='Cluster %s' % i)\n",
    "    plt.xticks(range(0, len(df_data.columns[0:12])), df_data.columns[0:12], fontsize=15)\n",
    "    plt.legend(fontsize=10)\n",
    "    plt.show()\n",
    "\n",
    "if cluster_var == True and cluster_avg == False:\n",
    "    plt.figure(figsize=(15, 4))\n",
    "    for i in range(0, len(kmeans.cluster_centers_)):\n",
    "        plt.plot(kmeans.cluster_centers_[i][0:12], marker='o', label='Cluster %s' % i)\n",
    "    plt.xticks(range(0, len(df_data.columns[0:12])), df_data.columns[0:12], fontsize=15)\n",
    "    plt.legend(fontsize=10)\n",
    "    plt.show()\n",
    "\n",
    "if cluster_var == True and cluster_avg == True:\n",
    "    plt.figure(figsize=(15, 4))\n",
    "    for i in range(0, len(kmeans.cluster_centers_)):\n",
    "        plt.plot(kmeans.cluster_centers_[i][0:12], marker='o', label='Cluster %s' % i)\n",
    "    plt.xticks(range(0, len(df_data.columns[0:12])), df_data.columns[0:12], fontsize=15)\n",
    "    plt.legend(fontsize=10)\n",
    "    plt.show()\n",
    "\n",
    "    plt.figure(figsize=(15, 4))\n",
    "    for i in range(0, len(kmeans.cluster_centers_)):\n",
    "        plt.plot(kmeans.cluster_centers_[i][12:24], marker='o', label='Cluster %s' % i)\n",
    "    plt.xticks(range(0, len(df_data.columns[12:24])), df_data.columns[12:24], fontsize=15)\n",
    "    plt.legend(fontsize=10)\n",
    "    plt.show()\n",
    "\n"
   ]
  },
  {
   "cell_type": "code",
   "execution_count": null,
   "metadata": {},
   "outputs": [],
   "source": [
    "# Decomment to check centroids in table\n",
    "#df_city.groupby(\"cluster_kmeans\").agg({\"cluster_kmeans\":\"count\", \"AverageTemperature\": \"mean\", '1_avg': \"mean\", '2_avg': \"mean\", '3_avg': \"mean\", '4_avg': \"mean\", '5_avg': \"mean\", '6_avg': \"mean\", '7_avg': \"mean\", '8_avg': \"mean\", '9_avg': \"mean\", '10_avg': \"mean\", '11_avg': \"mean\", '12_avg': \"mean\"}).sort_values(by=\"AverageTemperature\", ascending=False).round(2).rename(columns={\"cluster_kmeans\": \"cluster size\"})"
   ]
  },
  {
   "cell_type": "code",
   "execution_count": null,
   "metadata": {},
   "outputs": [],
   "source": [
    "# Decomment to check centroids in table\n",
    "#df_city.groupby(\"cluster_kmeans\").agg({\"cluster_kmeans\":\"count\", '1_var': \"mean\", '2_var': \"mean\", '3_var': \"mean\", '4_var': \"mean\", '5_var': \"mean\", '6_var': \"mean\", '7_var': \"mean\", '8_var': \"mean\", '9_var': \"mean\", '10_var': \"mean\", '11_var': \"mean\", '12_var': \"mean\"}).sort_values(by=\"AverageTemperatureUncertainty\", ascending=False).round(2).rename(columns={\"cluster_kmeans\": \"cluster size\"})"
   ]
  },
  {
   "cell_type": "markdown",
   "metadata": {},
   "source": [
    "#### Geographical visualization of the clusters"
   ]
  },
  {
   "cell_type": "code",
   "execution_count": null,
   "metadata": {},
   "outputs": [],
   "source": [
    "px.scatter_geo(df_city, lat=\"Latitude\", lon=\"Longitude\", color=\"cluster_kmeans\").show()"
   ]
  },
  {
   "cell_type": "markdown",
   "metadata": {},
   "source": [
    "# Time series Cluster"
   ]
  },
  {
   "cell_type": "markdown",
   "metadata": {},
   "source": [
    "K-means on feature related to temperature variance across the month failed to give well validated clusters as it happened with the average temperature. So we tried to use Dynamic Time Warping distance to try finding pattern between timeseries in case there were problem related with a misalignment.\n",
    "\n",
    "However even this result where quite similar to the euclidean distance."
   ]
  },
  {
   "cell_type": "code",
   "execution_count": null,
   "metadata": {},
   "outputs": [],
   "source": [
    "ts_moths_average_temp_var = to_time_series_dataset([i for _,i in df_moths_average_temp_var.iterrows()])"
   ]
  },
  {
   "cell_type": "code",
   "execution_count": null,
   "metadata": {},
   "outputs": [],
   "source": [
    "km = TimeSeriesKMeans(n_clusters=3, metric=\"dtw\",  random_state=0)\n",
    "km.fit(ts_moths_average_temp_var)"
   ]
  },
  {
   "cell_type": "code",
   "execution_count": null,
   "metadata": {},
   "outputs": [],
   "source": [
    "plt.figure(figsize=(15, 4))\n",
    "for i in range(0, len(km.cluster_centers_)):\n",
    "    plt.plot(km.cluster_centers_[i], marker='o', label='Cluster %s' % i)\n",
    "plt.xticks(range(0, len(features_var)), features_var, fontsize=15)\n",
    "plt.legend(fontsize=10)\n",
    "plt.show()"
   ]
  },
  {
   "cell_type": "code",
   "execution_count": null,
   "metadata": {},
   "outputs": [],
   "source": [
    "df_city[\"cluster_kmeans_dtw\"] = km.labels_.astype(str)"
   ]
  },
  {
   "cell_type": "markdown",
   "metadata": {},
   "source": [
    "#### Geographical visualization of the clusters"
   ]
  },
  {
   "cell_type": "code",
   "execution_count": null,
   "metadata": {},
   "outputs": [],
   "source": [
    "px.scatter_geo(df_city, lat=\"Latitude\", lon=\"Longitude\", color=\"cluster_kmeans_dtw\").show()"
   ]
  }
 ],
 "metadata": {
  "interpreter": {
   "hash": "7b36721443da4019c3aa4c050fbf86f78680ca0d16a7ae834f64d9ed2e29b204"
  },
  "kernelspec": {
   "display_name": "Python 3.9.7 64-bit ('dm': conda)",
   "language": "python",
   "name": "python3"
  },
  "language_info": {
   "codemirror_mode": {
    "name": "ipython",
    "version": 3
   },
   "file_extension": ".py",
   "mimetype": "text/x-python",
   "name": "python",
   "nbconvert_exporter": "python",
   "pygments_lexer": "ipython3",
   "version": "3.8.12"
  },
  "orig_nbformat": 4
 },
 "nbformat": 4,
 "nbformat_minor": 2
}
